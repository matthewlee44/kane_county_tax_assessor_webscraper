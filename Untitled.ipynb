{
 "cells": [
  {
   "cell_type": "code",
   "execution_count": 29,
   "id": "f6c1963e-35e7-4a8f-a1fc-68e60adc9c70",
   "metadata": {},
   "outputs": [],
   "source": [
    "import os\n",
    "from bs4 import BeautifulSoup"
   ]
  },
  {
   "cell_type": "code",
   "execution_count": 30,
   "id": "e1652ad7-f7aa-408e-b379-60ff4bd73421",
   "metadata": {},
   "outputs": [],
   "source": [
    "class PinDirectory:\n",
    "    \n",
    "    def __init__(self, directory_path):\n",
    "        self.directory_path = directory_path\n",
    "        self.files = [filename for filename in os.listdir(directory_path)]\n",
    "        self.latest_year_filename = sorted(self.files)[-1]\n",
    "        self.years = [file.split(\".\")[0] for file in self.files]\n",
    "        self.latest_year = sorted(self.years)[-1]\n",
    "        self.latest_parcel_page = None\n",
    "    \n",
    "    def has_files(self):\n",
    "        return len(self.files) > 0\n",
    "    \n",
    "    def has_all_files(self):\n",
    "        tax_years = [link.split(\"/\")[-1] for link in self.tax_year_links()]\n",
    "        return set(self.years) == set(tax_years)\n",
    "    \n",
    "    def parse_latest_parcel_page(self):\n",
    "        # Return ParcelPage object for HTML page for latest year in folder\n",
    "        \n",
    "        # Check to see if ParcelPage for latest parcel page was made\n",
    "        # if not, make it and set it\n",
    "        if not self.latest_parcel_page:\n",
    "            self.latest_parcel_page = ParcelPage(f\"{self.directory_path}/{self.latest_year_filename}\")\n",
    "        \n",
    "        return self.latest_parcel_page\n",
    "\n",
    "    def tax_year_links(self):\n",
    "        \n",
    "        # Set latest parcel page if not set already\n",
    "        parcel_page = self.parse_latest_parcel_page()\n",
    "        \n",
    "        return parcel_page.tax_year_links()\n",
    "    \n",
    "    def download_tax_page(self, link):\n",
    "        base_url = \"https://kaneil.devnetwedge.com\"\n",
    "\n",
    "        url = f\"{base_url}{link}\"\n",
    "        no_response = True\n",
    "\n",
    "        # Request loop for tax parcel page\n",
    "        while no_response:\n",
    "            print(f'Making request at: {url}')\n",
    "            res = requests.get(url)\n",
    "            print(f'Request response code: {res.status_code}')\n",
    "            if res.status_code == 200:\n",
    "                print(f\"Request successful for url: {res.url}\")\n",
    "                no_response = False\n",
    "            else:\n",
    "                print(f'Trying again')\n",
    "                time.sleep(3)\n",
    "\n",
    "        # Directory path for saving parcel page HTML\n",
    "        directory = self.directory_path\n",
    "\n",
    "        # Pull year from response url\n",
    "        year = url.split(\"/\")[-1]\n",
    "        print(f\"Year pulled from url: {year}\")\n",
    "\n",
    "        with open(f\"{directory}/{year}.html\", \"w\") as f:\n",
    "            f.write(res.text)\n",
    "            print(f\"Saved HTML to {f.name}\")\n",
    "\n",
    "    \n",
    "    def download_all_tax_pages(self):\n",
    "        links = self.tax_year_links()\n",
    "        for link in links:\n",
    "            time.sleep(1)\n",
    "            print(\"\\n\")\n",
    "            print(f\"***** Scraping {link} *****\")\n",
    "            self.download_tax_page(link)\n",
    "            \n",
    "class ParcelPage:\n",
    "    \n",
    "    def __init__(self, filepath):        \n",
    "        self.filepath = filepath\n",
    "        self.parsed_html = None\n",
    "        self.info_panels = None\n",
    "        \n",
    "    def parse_html(self):\n",
    "        # Check to see that HTML for parcel page has been parsed\n",
    "        if not self.parsed_html:\n",
    "            # Parse parcel page HTML with Beautiful Soup\n",
    "            self.parsed_html = BeautifulSoup(open(self.filepath), \"html.parser\")\n",
    "        \n",
    "    def parcel_year_label(self):\n",
    "        # Pull the parcel and year label from navigation bar\n",
    "        \n",
    "        # Check if html is parsed and if not do it\n",
    "        self.parse_html()\n",
    "        \n",
    "        # Pull parcel-year-label from navbar\n",
    "        return self.parsed_html.select(\"#parcel-year-label\")[0].text\n",
    "\n",
    "    def parse_info_panels(self):\n",
    "        # Pull all info panels from page\n",
    "        \n",
    "        # Check if html is parsed and if not do it\n",
    "        self.parse_html()\n",
    "        \n",
    "        if not self.info_panels:\n",
    "            self.info_panels = self.parsed_html.find_all(\"div\", \"panel-info\")\n",
    "    \n",
    "    def property_information_panel(self):\n",
    "        # Return parsed HTML for info panel with \"Property Information\" heading\n",
    "        \n",
    "        # Check if info panels are parsed\n",
    "        self.parse_info_panels()\n",
    "        \n",
    "        return [panel for panel in self.info_panels if \"property information\" in panel.find(\"h3\", \"panel-title\").text.lower()][0]\n",
    "        \n",
    "    \n",
    "    def tax_year_links(self):\n",
    "        # Pull all tax year links\n",
    "        \n",
    "        # Get panel with property information\n",
    "        prop_info_panel = self.property_information_panel()\n",
    "        \n",
    "        # Get table with property information\n",
    "        prop_info_table = prop_info_panel.find(\"table\")\n",
    "        \n",
    "        # Get drop down menu\n",
    "        dropdown_menu = prop_info_table.find(\"ul\", \"dropdown-menu\")\n",
    "        \n",
    "        return [link['href'] for link in dropdown_menu.find_all(\"a\")]\n",
    "        "
   ]
  },
  {
   "cell_type": "code",
   "execution_count": 31,
   "id": "527a48b4-cc85-4926-85d0-6b1fbf009b62",
   "metadata": {},
   "outputs": [],
   "source": [
    "joe = [filename for filename in os.listdir(\"./kane_county_tax_files\") if filename != \".ipynb_checkpoints\"]\n",
    "\n",
    "directories = [PinDirectory(f\"./kane_county_tax_files/{directory}\") for directory in joe]"
   ]
  },
  {
   "cell_type": "code",
   "execution_count": 32,
   "id": "cc33fe2a-2fd0-4c3f-a6e3-8f7e956915bf",
   "metadata": {},
   "outputs": [
    {
     "data": {
      "text/plain": [
       "2831"
      ]
     },
     "execution_count": 32,
     "metadata": {},
     "output_type": "execute_result"
    }
   ],
   "source": [
    "len(directories)"
   ]
  },
  {
   "cell_type": "code",
   "execution_count": 33,
   "id": "44ea7a0d-b55c-4f1c-9c46-dd4adbb0922a",
   "metadata": {},
   "outputs": [
    {
     "data": {
      "text/plain": [
       "True"
      ]
     },
     "execution_count": 33,
     "metadata": {},
     "output_type": "execute_result"
    }
   ],
   "source": [
    "directories[3].has_all_files()"
   ]
  },
  {
   "cell_type": "code",
   "execution_count": 46,
   "id": "d6b0a956-af75-4491-8eef-cd495386ff75",
   "metadata": {},
   "outputs": [],
   "source": [
    "complete = [d for d in directories if d.has_all_files()]"
   ]
  },
  {
   "cell_type": "code",
   "execution_count": 47,
   "id": "bc4fba86-5867-42fc-9399-0b9d7681e8c1",
   "metadata": {},
   "outputs": [
    {
     "data": {
      "text/plain": [
       "1065"
      ]
     },
     "execution_count": 47,
     "metadata": {},
     "output_type": "execute_result"
    }
   ],
   "source": [
    "len(complete)"
   ]
  },
  {
   "cell_type": "code",
   "execution_count": 45,
   "id": "478bdda0-da78-44d6-9b8b-299a7b927ac9",
   "metadata": {},
   "outputs": [
    {
     "data": {
      "text/plain": [
       "1065"
      ]
     },
     "execution_count": 45,
     "metadata": {},
     "output_type": "execute_result"
    }
   ],
   "source": [
    "2831 - 1766"
   ]
  },
  {
   "cell_type": "code",
   "execution_count": 42,
   "id": "8e81ae88-f45d-48b4-8417-9d3b13e1ce37",
   "metadata": {},
   "outputs": [
    {
     "data": {
      "text/plain": [
       "2831"
      ]
     },
     "execution_count": 42,
     "metadata": {},
     "output_type": "execute_result"
    }
   ],
   "source": [
    "len(directories)"
   ]
  },
  {
   "cell_type": "code",
   "execution_count": 28,
   "id": "83bdc964-7829-48c9-aad0-1dfbb659bfc2",
   "metadata": {},
   "outputs": [
    {
     "data": {
      "text/plain": [
       "['./kane_county_tax_files/15-27-101-001',\n",
       " './kane_county_tax_files/15-27-102-001',\n",
       " './kane_county_tax_files/15-27-102-003',\n",
       " './kane_county_tax_files/15-27-102-004',\n",
       " './kane_county_tax_files/15-27-102-006',\n",
       " './kane_county_tax_files/15-27-102-007',\n",
       " './kane_county_tax_files/15-27-103-001',\n",
       " './kane_county_tax_files/15-27-103-002',\n",
       " './kane_county_tax_files/15-27-103-003',\n",
       " './kane_county_tax_files/15-27-103-004',\n",
       " './kane_county_tax_files/15-27-103-005',\n",
       " './kane_county_tax_files/15-27-103-006',\n",
       " './kane_county_tax_files/15-27-103-007',\n",
       " './kane_county_tax_files/15-27-103-008',\n",
       " './kane_county_tax_files/15-27-103-009',\n",
       " './kane_county_tax_files/15-27-103-010',\n",
       " './kane_county_tax_files/15-27-103-011',\n",
       " './kane_county_tax_files/15-27-103-012',\n",
       " './kane_county_tax_files/15-27-103-013',\n",
       " './kane_county_tax_files/15-27-103-014',\n",
       " './kane_county_tax_files/15-27-103-015',\n",
       " './kane_county_tax_files/15-27-103-016',\n",
       " './kane_county_tax_files/15-27-103-017',\n",
       " './kane_county_tax_files/15-27-103-018',\n",
       " './kane_county_tax_files/15-27-104-001',\n",
       " './kane_county_tax_files/15-27-104-002',\n",
       " './kane_county_tax_files/15-27-104-003',\n",
       " './kane_county_tax_files/15-27-104-004',\n",
       " './kane_county_tax_files/15-27-104-005',\n",
       " './kane_county_tax_files/15-27-104-006',\n",
       " './kane_county_tax_files/15-27-104-007',\n",
       " './kane_county_tax_files/15-27-104-008',\n",
       " './kane_county_tax_files/15-27-104-009',\n",
       " './kane_county_tax_files/15-27-104-010',\n",
       " './kane_county_tax_files/15-27-104-011',\n",
       " './kane_county_tax_files/15-27-104-012',\n",
       " './kane_county_tax_files/15-27-104-015',\n",
       " './kane_county_tax_files/15-27-104-016',\n",
       " './kane_county_tax_files/15-27-104-017',\n",
       " './kane_county_tax_files/15-27-104-018',\n",
       " './kane_county_tax_files/15-27-104-019',\n",
       " './kane_county_tax_files/15-27-104-021',\n",
       " './kane_county_tax_files/15-27-104-022',\n",
       " './kane_county_tax_files/15-27-104-023',\n",
       " './kane_county_tax_files/15-27-104-024',\n",
       " './kane_county_tax_files/15-27-104-025',\n",
       " './kane_county_tax_files/15-27-104-026',\n",
       " './kane_county_tax_files/15-27-104-027',\n",
       " './kane_county_tax_files/15-27-104-028',\n",
       " './kane_county_tax_files/15-27-104-029',\n",
       " './kane_county_tax_files/15-27-104-030',\n",
       " './kane_county_tax_files/15-27-104-031',\n",
       " './kane_county_tax_files/15-27-104-032',\n",
       " './kane_county_tax_files/15-27-104-033',\n",
       " './kane_county_tax_files/15-27-104-034',\n",
       " './kane_county_tax_files/15-27-104-035',\n",
       " './kane_county_tax_files/15-27-104-036',\n",
       " './kane_county_tax_files/15-27-104-037',\n",
       " './kane_county_tax_files/15-27-104-038',\n",
       " './kane_county_tax_files/15-27-104-039',\n",
       " './kane_county_tax_files/15-27-104-040',\n",
       " './kane_county_tax_files/15-27-104-041',\n",
       " './kane_county_tax_files/15-27-104-042',\n",
       " './kane_county_tax_files/15-27-104-043',\n",
       " './kane_county_tax_files/15-27-104-044',\n",
       " './kane_county_tax_files/15-27-104-045',\n",
       " './kane_county_tax_files/15-27-104-046',\n",
       " './kane_county_tax_files/15-27-104-047',\n",
       " './kane_county_tax_files/15-27-104-048',\n",
       " './kane_county_tax_files/15-27-105-001',\n",
       " './kane_county_tax_files/15-27-105-002',\n",
       " './kane_county_tax_files/15-27-105-003',\n",
       " './kane_county_tax_files/15-27-105-004',\n",
       " './kane_county_tax_files/15-27-105-005',\n",
       " './kane_county_tax_files/15-27-105-006',\n",
       " './kane_county_tax_files/15-27-106-001',\n",
       " './kane_county_tax_files/15-27-106-002',\n",
       " './kane_county_tax_files/15-27-106-003',\n",
       " './kane_county_tax_files/15-27-106-004',\n",
       " './kane_county_tax_files/15-27-106-006',\n",
       " './kane_county_tax_files/15-27-106-007',\n",
       " './kane_county_tax_files/15-27-106-008',\n",
       " './kane_county_tax_files/15-27-106-009',\n",
       " './kane_county_tax_files/15-27-106-010',\n",
       " './kane_county_tax_files/15-27-106-011',\n",
       " './kane_county_tax_files/15-27-106-012',\n",
       " './kane_county_tax_files/15-27-106-013',\n",
       " './kane_county_tax_files/15-27-106-014',\n",
       " './kane_county_tax_files/15-27-106-015',\n",
       " './kane_county_tax_files/15-27-106-016',\n",
       " './kane_county_tax_files/15-27-106-019',\n",
       " './kane_county_tax_files/15-27-106-020',\n",
       " './kane_county_tax_files/15-27-106-021',\n",
       " './kane_county_tax_files/15-27-106-022',\n",
       " './kane_county_tax_files/15-27-106-023',\n",
       " './kane_county_tax_files/15-27-107-001',\n",
       " './kane_county_tax_files/15-27-107-002',\n",
       " './kane_county_tax_files/15-27-107-003',\n",
       " './kane_county_tax_files/15-27-107-004',\n",
       " './kane_county_tax_files/15-27-107-005']"
      ]
     },
     "execution_count": 28,
     "metadata": {},
     "output_type": "execute_result"
    }
   ],
   "source": [
    "[d.directory_path for d in directories[0:100]]"
   ]
  },
  {
   "cell_type": "code",
   "execution_count": null,
   "id": "dfa972fd-d99c-4fc9-b868-6b5d3f413e87",
   "metadata": {},
   "outputs": [],
   "source": []
  }
 ],
 "metadata": {
  "kernelspec": {
   "display_name": "Python 3 (ipykernel)",
   "language": "python",
   "name": "python3"
  },
  "language_info": {
   "codemirror_mode": {
    "name": "ipython",
    "version": 3
   },
   "file_extension": ".py",
   "mimetype": "text/x-python",
   "name": "python",
   "nbconvert_exporter": "python",
   "pygments_lexer": "ipython3",
   "version": "3.9.12"
  }
 },
 "nbformat": 4,
 "nbformat_minor": 5
}
