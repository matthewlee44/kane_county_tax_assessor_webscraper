{
 "cells": [
  {
   "cell_type": "markdown",
   "id": "efdbb510-6ca5-4861-ad80-0815a2a0780a",
   "metadata": {},
   "source": [
    "# Kane County Tax Assessor Webscraper"
   ]
  },
  {
   "cell_type": "markdown",
   "id": "73264e7e-5551-49dd-8d9d-fda39f5ebb2f",
   "metadata": {},
   "source": [
    "## Imports"
   ]
  },
  {
   "cell_type": "markdown",
   "id": "68cc4682-da70-4633-bb13-41e1bdfc8b7a",
   "metadata": {},
   "source": [
    "### Libraries"
   ]
  },
  {
   "cell_type": "code",
   "execution_count": 1,
   "id": "28aef90b-c5a8-4392-8d2c-97163f4ca056",
   "metadata": {},
   "outputs": [],
   "source": [
    "import requests\n",
    "import pandas as pd\n",
    "import os\n",
    "import time\n",
    "from bs4 import BeautifulSoup\n",
    "\n",
    "pd.set_option(\"display.max_rows\", None)"
   ]
  },
  {
   "cell_type": "markdown",
   "id": "d925f28e-b8b2-4b5d-9c8c-0bca3f46d372",
   "metadata": {},
   "source": [
    "### PIN Data"
   ]
  },
  {
   "cell_type": "code",
   "execution_count": 2,
   "id": "9851463d-04ee-4e79-94dc-013e6be528ae",
   "metadata": {},
   "outputs": [
    {
     "name": "stderr",
     "output_type": "stream",
     "text": [
      "/var/folders/rr/_w3j3ccj4pg8x_5vk8485dq40000gp/T/ipykernel_640/666050592.py:1: DtypeWarning: Columns (29) have mixed types. Specify dtype option on import or set low_memory=False.\n",
      "  tax_parcels = pd.read_csv(\"./kane_county_tax_parcels.csv\")\n"
     ]
    }
   ],
   "source": [
    "tax_parcels = pd.read_csv(\"./kane_county_tax_parcels.csv\")"
   ]
  },
  {
   "cell_type": "code",
   "execution_count": 3,
   "id": "5ab87bf2-2d73-43a0-952c-b433959a7f25",
   "metadata": {},
   "outputs": [],
   "source": [
    "# Filter down for PINs starting with \"15-27\"\n",
    "tax_parcels_15_27 = tax_parcels[tax_parcels[\"PIN\"].str.startswith(\"15-27\")]"
   ]
  },
  {
   "cell_type": "code",
   "execution_count": 4,
   "id": "2566d3bb-63d9-40d3-abc5-77b58c07983a",
   "metadata": {},
   "outputs": [],
   "source": [
    "pins_15_27 = list(tax_parcels_15_27[\"PIN\"])"
   ]
  },
  {
   "cell_type": "code",
   "execution_count": 5,
   "id": "1c1552bc-715b-4843-8e49-3f66795523f6",
   "metadata": {},
   "outputs": [],
   "source": [
    "tax_parcels_15_28 = tax_parcels[tax_parcels[\"PIN\"].str.startswith(\"15-28\")]"
   ]
  },
  {
   "cell_type": "code",
   "execution_count": 6,
   "id": "95259d64-fedb-465b-b34a-824bc16b3e45",
   "metadata": {},
   "outputs": [],
   "source": [
    "pins_15_28 = list(tax_parcels_15_28[\"PIN\"])"
   ]
  },
  {
   "cell_type": "code",
   "execution_count": 8,
   "id": "f6021948-5b6c-4591-a921-b9dc56cb55cc",
   "metadata": {},
   "outputs": [
    {
     "data": {
      "text/plain": [
       "1300"
      ]
     },
     "execution_count": 8,
     "metadata": {},
     "output_type": "execute_result"
    }
   ],
   "source": [
    "len(pins_15_28)"
   ]
  },
  {
   "cell_type": "code",
   "execution_count": null,
   "id": "7d773626-5dc9-4fae-826e-5011b8e459c4",
   "metadata": {},
   "outputs": [],
   "source": []
  },
  {
   "cell_type": "code",
   "execution_count": null,
   "id": "614cfeb0-3bd9-48db-b247-b7a3244dabe6",
   "metadata": {},
   "outputs": [],
   "source": []
  },
  {
   "cell_type": "markdown",
   "id": "28efa247-0d45-494a-a42a-44a4682fb605",
   "metadata": {},
   "source": [
    "## Duplicative PINs Analysis"
   ]
  },
  {
   "cell_type": "code",
   "execution_count": 6,
   "id": "2b170ebf-d918-4da2-b666-107c1386ae2d",
   "metadata": {},
   "outputs": [],
   "source": [
    "tax_parcel_value_counts = tax_parcels[\"PIN\"].value_counts()"
   ]
  },
  {
   "cell_type": "code",
   "execution_count": 11,
   "id": "f3dbd639-cc4a-4ee3-a7f9-48913c8126cc",
   "metadata": {},
   "outputs": [],
   "source": [
    "duplicative_pins = list(tax_parcel_value_counts[tax_parcel_value_counts > 1].index)"
   ]
  },
  {
   "cell_type": "code",
   "execution_count": 15,
   "id": "df5e2b85-341c-4af3-9af2-4106cec42aca",
   "metadata": {},
   "outputs": [],
   "source": [
    "tax_parcels[tax_parcels[\"PIN\"].isin(duplicative_pins)].sort_values(\"PIN\").to_csv(\"./duplicative_pins.csv\", index=False)"
   ]
  },
  {
   "cell_type": "code",
   "execution_count": 4,
   "id": "b3b64c8e-e7e8-492d-8ead-472a8b4a8ae9",
   "metadata": {},
   "outputs": [
    {
     "data": {
      "text/plain": [
       "[]"
      ]
     },
     "execution_count": 4,
     "metadata": {},
     "output_type": "execute_result"
    }
   ],
   "source": [
    "[filename for filename in os.listdir(\"./kane_county_tax_files\")]"
   ]
  },
  {
   "cell_type": "code",
   "execution_count": null,
   "id": "1e014e79-09f2-4c95-8001-5d242c333826",
   "metadata": {},
   "outputs": [],
   "source": []
  },
  {
   "cell_type": "markdown",
   "id": "68e561ee-4e4c-46cd-b4a2-c0317e1d6267",
   "metadata": {},
   "source": [
    "## Save Kane Tax Assessor Parcel Page to File"
   ]
  },
  {
   "cell_type": "code",
   "execution_count": 9,
   "id": "bf4c9014-3f60-4107-b1e3-ed1bfc51e59b",
   "metadata": {},
   "outputs": [],
   "source": [
    "base_url = \"https://kaneil.devnetwedge.com/parcel/view/\"\n",
    "\n",
    "def get_front_parcel_page(pin):\n",
    "        \n",
    "    # Create string for pin to be used in URL\n",
    "    url_pin = pin.replace(\"-\", \"\")\n",
    "    \n",
    "    url = f\"{base_url}{url_pin}\"\n",
    "    no_response = True\n",
    "\n",
    "    # Request loop for front tax parcel page\n",
    "    while no_response:\n",
    "        print(f'Making request at: {url}')\n",
    "        res = requests.get(url)\n",
    "        print(f'Request response code: {res.status_code}')\n",
    "        if res.status_code == 200:\n",
    "            print(f\"Request successful for url: {res.url}\")\n",
    "            no_response = False\n",
    "        else:\n",
    "            print(f'Trying again')\n",
    "            time.sleep(3)\n",
    "    \n",
    "    # Directory path for saving parcel page HTML\n",
    "    directory = f\"./kane_county_tax_files/{pin}\"\n",
    "    \n",
    "    # Check to see if directory exists\n",
    "    directory_exists = os.path.exists(directory)\n",
    "    \n",
    "    # If directory doesn't exist, create directory\n",
    "    if not directory_exists:\n",
    "        os.makedirs(directory)\n",
    "        print(f\"created folder : {directory}\")\n",
    "        \n",
    "    # Pull year from response url\n",
    "    year = res.url.split(\"/\")[-1]\n",
    "    print(f\"Year pulled from response url: {year}\")\n",
    "    \n",
    "    with open(f\"./kane_county_tax_files/{pin}/{year}.html\", \"w\") as f:\n",
    "        f.write(res.text)\n",
    "        print(f\"Saved HTML to {f.name}\")\n",
    "\n",
    "def get_front_page_for_multiple_pins(pins_list):\n",
    "    for pin in pins_list:\n",
    "        time.sleep(1)\n",
    "        print(\"\\n\")\n",
    "        print(\"\\n\")\n",
    "        print(f\"***** Scraping for PIN: {pin} *****\")\n",
    "        get_front_parcel_page(pin)"
   ]
  },
  {
   "cell_type": "code",
   "execution_count": null,
   "id": "d10d3eea-ba0a-49e4-8b05-0ef681e7d33b",
   "metadata": {},
   "outputs": [],
   "source": [
    "get_front_page_for_multiple_pins(pins_15_27)"
   ]
  },
  {
   "cell_type": "code",
   "execution_count": 88,
   "id": "da23f766-9bf2-4f88-adfe-b0a2959edca4",
   "metadata": {},
   "outputs": [],
   "source": [
    "rootdir = \"./kane_county_tax_files\"\n",
    "complete = [it.name.split(\"/\")[-1] for it in os.scandir(rootdir) if it.is_dir()] "
   ]
  },
  {
   "cell_type": "code",
   "execution_count": 89,
   "id": "edefbc78-b98c-4b82-8004-f80bd9e105d6",
   "metadata": {},
   "outputs": [
    {
     "data": {
      "text/plain": [
       "2832"
      ]
     },
     "execution_count": 89,
     "metadata": {},
     "output_type": "execute_result"
    }
   ],
   "source": [
    "len(complete)"
   ]
  },
  {
   "cell_type": "code",
   "execution_count": 90,
   "id": "ff63006f-ba28-4b84-b6af-c76ca6cdaa24",
   "metadata": {},
   "outputs": [
    {
     "data": {
      "text/plain": [
       "2831"
      ]
     },
     "execution_count": 90,
     "metadata": {},
     "output_type": "execute_result"
    }
   ],
   "source": [
    "len(pins_15_27)"
   ]
  },
  {
   "cell_type": "markdown",
   "id": "8192ab68-6fa7-4cc9-9491-87f5458a5adc",
   "metadata": {},
   "source": [
    "## Parse HTML"
   ]
  },
  {
   "cell_type": "code",
   "execution_count": 16,
   "id": "6c50a53f-bb69-4922-8533-0964bd6371a7",
   "metadata": {},
   "outputs": [],
   "source": [
    "rootdir = \"./kane_county_tax_files\"\n",
    "complete = [it.name for it in os.scandir(rootdir) if it.is_dir()] "
   ]
  },
  {
   "cell_type": "code",
   "execution_count": 21,
   "id": "dd048fbf-06cb-4852-85e3-fbc9ff72b883",
   "metadata": {},
   "outputs": [],
   "source": [
    "joe = [filename for filename in os.listdir(\"./kane_county_tax_files\") if filename != \".ipynb_checkpoints\"]"
   ]
  },
  {
   "cell_type": "code",
   "execution_count": 23,
   "id": "caf5c591-cceb-45b6-bb16-865072b5ef94",
   "metadata": {},
   "outputs": [
    {
     "data": {
      "text/plain": [
       "2831"
      ]
     },
     "execution_count": 23,
     "metadata": {},
     "output_type": "execute_result"
    }
   ],
   "source": [
    "len(joe)"
   ]
  },
  {
   "cell_type": "code",
   "execution_count": null,
   "id": "f2125914-37cb-4308-8f5f-fbb83f710b7a",
   "metadata": {},
   "outputs": [],
   "source": []
  },
  {
   "cell_type": "code",
   "execution_count": null,
   "id": "e7ce89d1-4c4c-4f28-9888-8229a7d6b2fe",
   "metadata": {},
   "outputs": [],
   "source": []
  },
  {
   "cell_type": "code",
   "execution_count": null,
   "id": "ff73b4c5-402e-44ec-a274-d2aabadf1c7b",
   "metadata": {},
   "outputs": [],
   "source": []
  },
  {
   "cell_type": "code",
   "execution_count": 174,
   "id": "5fc4d12e-264e-467d-8098-c97a30b6b879",
   "metadata": {},
   "outputs": [],
   "source": [
    "class PinDirectory:\n",
    "    \n",
    "    def __init__(self, directory_path):\n",
    "        self.directory_path = directory_path\n",
    "        self.files = [filename for filename in os.listdir(directory_path)]\n",
    "        self.latest_year_filename = sorted(self.files)[-1]\n",
    "        self.years = [file.split(\".\")[0] for file in self.files]\n",
    "        self.latest_year = sorted(self.years)[-1]\n",
    "        self.latest_parcel_page = None\n",
    "    \n",
    "    def has_files(self):\n",
    "        return len(self.files) > 0\n",
    "    \n",
    "    def parse_latest_parcel_page(self):\n",
    "        # Return ParcelPage object for HTML page for latest year in folder\n",
    "        \n",
    "        # Check to see if ParcelPage for latest parcel page was made\n",
    "        # if not, make it and set it\n",
    "        if not self.latest_parcel_page:\n",
    "            self.latest_parcel_page = ParcelPage(f\"{self.directory_path}/{self.latest_year_filename}\")\n",
    "        \n",
    "        return self.latest_parcel_page\n",
    "\n",
    "    def tax_year_links(self):\n",
    "        \n",
    "        # Set latest parcel page if not set already\n",
    "        parcel_page = self.parse_latest_parcel_page()\n",
    "        \n",
    "        return parcel_page.tax_year_links()\n",
    "    \n",
    "\n",
    "class ParcelPage:\n",
    "    \n",
    "    def __init__(self, filepath):        \n",
    "        self.filepath = filepath\n",
    "        self.parsed_html = None\n",
    "        self.info_panels = None\n",
    "        \n",
    "    def parse_html(self):\n",
    "        # Check to see that HTML for parcel page has been parsed\n",
    "        if not self.parsed_html:\n",
    "            # Parse parcel page HTML with Beautiful Soup\n",
    "            self.parsed_html = BeautifulSoup(open(self.filepath), \"html.parser\")\n",
    "        \n",
    "    def parcel_year_label(self):\n",
    "        # Pull the parcel and year label from navigation bar\n",
    "        \n",
    "        # Check if html is parsed and if not do it\n",
    "        self.parse_html()\n",
    "        \n",
    "        # Pull parcel-year-label from navbar\n",
    "        return self.parsed_html.select(\"#parcel-year-label\")[0].text\n",
    "\n",
    "    def parse_info_panels(self):\n",
    "        # Pull all info panels from page\n",
    "        \n",
    "        # Check if html is parsed and if not do it\n",
    "        self.parse_html()\n",
    "        \n",
    "        if not self.info_panels:\n",
    "            self.info_panels = self.parsed_html.find_all(\"div\", \"panel-info\")\n",
    "    \n",
    "    def property_information_panel(self):\n",
    "        # Return parsed HTML for info panel with \"Property Information\" heading\n",
    "        \n",
    "        # Check if info panels are parsed\n",
    "        self.parse_info_panels()\n",
    "        \n",
    "        return [panel for panel in self.info_panels if \"property information\" in panel.find(\"h3\", \"panel-title\").text.lower()][0]\n",
    "        \n",
    "    \n",
    "    def tax_year_links(self):\n",
    "        # Pull all tax year links\n",
    "        \n",
    "        # Get panel with property information\n",
    "        prop_info_panel = self.property_information_panel()\n",
    "        \n",
    "        # Get table with property information\n",
    "        prop_info_table = prop_info_panel.find(\"table\")\n",
    "        \n",
    "        # Get drop down menu\n",
    "        dropdown_menu = prop_info_table.find(\"ul\", \"dropdown-menu\")\n",
    "        \n",
    "        return [link['href'] for link in dropdown_menu.find_all(\"a\")]\n",
    "        \n",
    "    "
   ]
  },
  {
   "cell_type": "code",
   "execution_count": 175,
   "id": "29c5e6e2-9e2c-419d-a111-1a0b0de367e8",
   "metadata": {},
   "outputs": [],
   "source": [
    "directories = [PinDirectory(f\"./kane_county_tax_files/{directory}\") for directory in joe]"
   ]
  },
  {
   "cell_type": "code",
   "execution_count": 176,
   "id": "0f374b74-ef34-40c3-a66f-20e64e1b601e",
   "metadata": {},
   "outputs": [
    {
     "data": {
      "text/plain": [
       "{'2017', '2018', '2021', '2022'}"
      ]
     },
     "execution_count": 176,
     "metadata": {},
     "output_type": "execute_result"
    }
   ],
   "source": [
    "set(list([directory.latest_year for directory in directories]))"
   ]
  },
  {
   "cell_type": "code",
   "execution_count": 177,
   "id": "341550fb-74d9-43b6-b67b-6111687622d3",
   "metadata": {},
   "outputs": [
    {
     "data": {
      "text/plain": [
       "True"
      ]
     },
     "execution_count": 177,
     "metadata": {},
     "output_type": "execute_result"
    }
   ],
   "source": [
    "directories[32].has_files()"
   ]
  },
  {
   "cell_type": "code",
   "execution_count": 180,
   "id": "6294b2d2-e118-420a-9699-d7e80f2166c2",
   "metadata": {},
   "outputs": [],
   "source": [
    "sample_page = directories[32].parse_latest_parcel_page()"
   ]
  },
  {
   "cell_type": "code",
   "execution_count": null,
   "id": "b850636a-2abe-4b84-b052-c776dd1587fd",
   "metadata": {},
   "outputs": [],
   "source": []
  },
  {
   "cell_type": "code",
   "execution_count": 181,
   "id": "2b67e875-a330-45df-bdb7-1fe34c82d50d",
   "metadata": {},
   "outputs": [
    {
     "data": {
      "text/plain": [
       "['/parcel/view/1527104009/2022',\n",
       " '/parcel/view/1527104009/2021',\n",
       " '/parcel/view/1527104009/2020',\n",
       " '/parcel/view/1527104009/2019',\n",
       " '/parcel/view/1527104009/2018',\n",
       " '/parcel/view/1527104009/2017',\n",
       " '/parcel/view/1527104009/2016',\n",
       " '/parcel/view/1527104009/2015',\n",
       " '/parcel/view/1527104009/2014',\n",
       " '/parcel/view/1527104009/2013',\n",
       " '/parcel/view/1527104009/2012',\n",
       " '/parcel/view/1527104009/2011',\n",
       " '/parcel/view/1527104009/2010',\n",
       " '/parcel/view/1527104009/2009',\n",
       " '/parcel/view/1527104009/2008',\n",
       " '/parcel/view/1527104009/2007',\n",
       " '/parcel/view/1527104009/2006',\n",
       " '/parcel/view/1527104009/2005',\n",
       " '/parcel/view/1527104009/2004',\n",
       " '/parcel/view/1527104009/2003',\n",
       " '/parcel/view/1527104009/2002',\n",
       " '/parcel/view/1527104009/2001',\n",
       " '/parcel/view/1527104009/2000',\n",
       " '/parcel/view/1527104009/1999',\n",
       " '/parcel/view/1527104009/1992',\n",
       " '/parcel/view/1527104009/1988']"
      ]
     },
     "execution_count": 181,
     "metadata": {},
     "output_type": "execute_result"
    }
   ],
   "source": [
    "sample_page.tax_year_links()"
   ]
  },
  {
   "cell_type": "code",
   "execution_count": 183,
   "id": "34f7fed0-6c82-4a7b-ba5f-a05b2b5db6d0",
   "metadata": {},
   "outputs": [
    {
     "data": {
      "text/plain": [
       "[['/parcel/view/1527281018/2022',\n",
       "  '/parcel/view/1527281018/2021',\n",
       "  '/parcel/view/1527281018/2020',\n",
       "  '/parcel/view/1527281018/2019',\n",
       "  '/parcel/view/1527281018/2018',\n",
       "  '/parcel/view/1527281018/2017',\n",
       "  '/parcel/view/1527281018/2016',\n",
       "  '/parcel/view/1527281018/2015',\n",
       "  '/parcel/view/1527281018/2014',\n",
       "  '/parcel/view/1527281018/2013',\n",
       "  '/parcel/view/1527281018/2012',\n",
       "  '/parcel/view/1527281018/2011',\n",
       "  '/parcel/view/1527281018/2010',\n",
       "  '/parcel/view/1527281018/2009',\n",
       "  '/parcel/view/1527281018/2008',\n",
       "  '/parcel/view/1527281018/2007',\n",
       "  '/parcel/view/1527281018/2006',\n",
       "  '/parcel/view/1527281018/2005',\n",
       "  '/parcel/view/1527281018/2004',\n",
       "  '/parcel/view/1527281018/2003',\n",
       "  '/parcel/view/1527281018/2002',\n",
       "  '/parcel/view/1527281018/2001',\n",
       "  '/parcel/view/1527281018/2000',\n",
       "  '/parcel/view/1527281018/1999',\n",
       "  '/parcel/view/1527281018/1996',\n",
       "  '/parcel/view/1527281018/1993',\n",
       "  '/parcel/view/1527281018/1985'],\n",
       " ['/parcel/view/1527281019/2022',\n",
       "  '/parcel/view/1527281019/2021',\n",
       "  '/parcel/view/1527281019/2020',\n",
       "  '/parcel/view/1527281019/2019',\n",
       "  '/parcel/view/1527281019/2018',\n",
       "  '/parcel/view/1527281019/2017',\n",
       "  '/parcel/view/1527281019/2016',\n",
       "  '/parcel/view/1527281019/2015',\n",
       "  '/parcel/view/1527281019/2014',\n",
       "  '/parcel/view/1527281019/2013',\n",
       "  '/parcel/view/1527281019/2012',\n",
       "  '/parcel/view/1527281019/2011',\n",
       "  '/parcel/view/1527281019/2010',\n",
       "  '/parcel/view/1527281019/2009',\n",
       "  '/parcel/view/1527281019/2008',\n",
       "  '/parcel/view/1527281019/2007',\n",
       "  '/parcel/view/1527281019/2006',\n",
       "  '/parcel/view/1527281019/2005',\n",
       "  '/parcel/view/1527281019/2004',\n",
       "  '/parcel/view/1527281019/2003',\n",
       "  '/parcel/view/1527281019/2002',\n",
       "  '/parcel/view/1527281019/2001',\n",
       "  '/parcel/view/1527281019/2000',\n",
       "  '/parcel/view/1527281019/1999',\n",
       "  '/parcel/view/1527281019/1997',\n",
       "  '/parcel/view/1527281019/1990',\n",
       "  '/parcel/view/1527281019/1987'],\n",
       " ['/parcel/view/1527281020/2022',\n",
       "  '/parcel/view/1527281020/2021',\n",
       "  '/parcel/view/1527281020/2020',\n",
       "  '/parcel/view/1527281020/2019',\n",
       "  '/parcel/view/1527281020/2018',\n",
       "  '/parcel/view/1527281020/2017',\n",
       "  '/parcel/view/1527281020/2016',\n",
       "  '/parcel/view/1527281020/2015',\n",
       "  '/parcel/view/1527281020/2014',\n",
       "  '/parcel/view/1527281020/2013',\n",
       "  '/parcel/view/1527281020/2012',\n",
       "  '/parcel/view/1527281020/2011',\n",
       "  '/parcel/view/1527281020/2010',\n",
       "  '/parcel/view/1527281020/2009',\n",
       "  '/parcel/view/1527281020/2008',\n",
       "  '/parcel/view/1527281020/2007',\n",
       "  '/parcel/view/1527281020/2006',\n",
       "  '/parcel/view/1527281020/2005',\n",
       "  '/parcel/view/1527281020/2004',\n",
       "  '/parcel/view/1527281020/2003',\n",
       "  '/parcel/view/1527281020/2002',\n",
       "  '/parcel/view/1527281020/2001',\n",
       "  '/parcel/view/1527281020/2000',\n",
       "  '/parcel/view/1527281020/1999',\n",
       "  '/parcel/view/1527281020/1998',\n",
       "  '/parcel/view/1527281020/1997',\n",
       "  '/parcel/view/1527281020/1989'],\n",
       " ['/parcel/view/1527281021/2022',\n",
       "  '/parcel/view/1527281021/2021',\n",
       "  '/parcel/view/1527281021/2020',\n",
       "  '/parcel/view/1527281021/2019',\n",
       "  '/parcel/view/1527281021/2018',\n",
       "  '/parcel/view/1527281021/2017',\n",
       "  '/parcel/view/1527281021/2016',\n",
       "  '/parcel/view/1527281021/2015',\n",
       "  '/parcel/view/1527281021/2014',\n",
       "  '/parcel/view/1527281021/2013',\n",
       "  '/parcel/view/1527281021/2012',\n",
       "  '/parcel/view/1527281021/2011',\n",
       "  '/parcel/view/1527281021/2010',\n",
       "  '/parcel/view/1527281021/2009',\n",
       "  '/parcel/view/1527281021/2008',\n",
       "  '/parcel/view/1527281021/2007',\n",
       "  '/parcel/view/1527281021/2006',\n",
       "  '/parcel/view/1527281021/2005',\n",
       "  '/parcel/view/1527281021/2004',\n",
       "  '/parcel/view/1527281021/2003',\n",
       "  '/parcel/view/1527281021/2002',\n",
       "  '/parcel/view/1527281021/2001',\n",
       "  '/parcel/view/1527281021/2000',\n",
       "  '/parcel/view/1527281021/1999',\n",
       "  '/parcel/view/1527281021/1990',\n",
       "  '/parcel/view/1527281021/1988'],\n",
       " ['/parcel/view/1527281022/2022',\n",
       "  '/parcel/view/1527281022/2021',\n",
       "  '/parcel/view/1527281022/2020',\n",
       "  '/parcel/view/1527281022/2019',\n",
       "  '/parcel/view/1527281022/2018',\n",
       "  '/parcel/view/1527281022/2017',\n",
       "  '/parcel/view/1527281022/2016',\n",
       "  '/parcel/view/1527281022/2015',\n",
       "  '/parcel/view/1527281022/2014',\n",
       "  '/parcel/view/1527281022/2013',\n",
       "  '/parcel/view/1527281022/2012',\n",
       "  '/parcel/view/1527281022/2011',\n",
       "  '/parcel/view/1527281022/2010',\n",
       "  '/parcel/view/1527281022/2009',\n",
       "  '/parcel/view/1527281022/2008',\n",
       "  '/parcel/view/1527281022/2007',\n",
       "  '/parcel/view/1527281022/2006',\n",
       "  '/parcel/view/1527281022/2005',\n",
       "  '/parcel/view/1527281022/2004',\n",
       "  '/parcel/view/1527281022/2003',\n",
       "  '/parcel/view/1527281022/2002',\n",
       "  '/parcel/view/1527281022/2001',\n",
       "  '/parcel/view/1527281022/2000',\n",
       "  '/parcel/view/1527281022/1999',\n",
       "  '/parcel/view/1527281022/1997',\n",
       "  '/parcel/view/1527281022/1989'],\n",
       " ['/parcel/view/1527281023/2022',\n",
       "  '/parcel/view/1527281023/2021',\n",
       "  '/parcel/view/1527281023/2020',\n",
       "  '/parcel/view/1527281023/2019',\n",
       "  '/parcel/view/1527281023/2018',\n",
       "  '/parcel/view/1527281023/2017',\n",
       "  '/parcel/view/1527281023/2016',\n",
       "  '/parcel/view/1527281023/2015',\n",
       "  '/parcel/view/1527281023/2014',\n",
       "  '/parcel/view/1527281023/2013',\n",
       "  '/parcel/view/1527281023/2012',\n",
       "  '/parcel/view/1527281023/2011',\n",
       "  '/parcel/view/1527281023/2010',\n",
       "  '/parcel/view/1527281023/2009',\n",
       "  '/parcel/view/1527281023/2008',\n",
       "  '/parcel/view/1527281023/2007',\n",
       "  '/parcel/view/1527281023/2006',\n",
       "  '/parcel/view/1527281023/2005',\n",
       "  '/parcel/view/1527281023/2004',\n",
       "  '/parcel/view/1527281023/2003',\n",
       "  '/parcel/view/1527281023/2002',\n",
       "  '/parcel/view/1527281023/2001',\n",
       "  '/parcel/view/1527281023/2000',\n",
       "  '/parcel/view/1527281023/1999'],\n",
       " ['/parcel/view/1527281024/2022',\n",
       "  '/parcel/view/1527281024/2021',\n",
       "  '/parcel/view/1527281024/2020',\n",
       "  '/parcel/view/1527281024/2019',\n",
       "  '/parcel/view/1527281024/2018',\n",
       "  '/parcel/view/1527281024/2017',\n",
       "  '/parcel/view/1527281024/2016',\n",
       "  '/parcel/view/1527281024/2015',\n",
       "  '/parcel/view/1527281024/2014',\n",
       "  '/parcel/view/1527281024/2013',\n",
       "  '/parcel/view/1527281024/2012',\n",
       "  '/parcel/view/1527281024/2011',\n",
       "  '/parcel/view/1527281024/2010',\n",
       "  '/parcel/view/1527281024/2009',\n",
       "  '/parcel/view/1527281024/2008',\n",
       "  '/parcel/view/1527281024/2007',\n",
       "  '/parcel/view/1527281024/2006',\n",
       "  '/parcel/view/1527281024/2005',\n",
       "  '/parcel/view/1527281024/2004',\n",
       "  '/parcel/view/1527281024/2003',\n",
       "  '/parcel/view/1527281024/2002',\n",
       "  '/parcel/view/1527281024/2001',\n",
       "  '/parcel/view/1527281024/2000',\n",
       "  '/parcel/view/1527281024/1999',\n",
       "  '/parcel/view/1527281024/1993',\n",
       "  '/parcel/view/1527281024/1973'],\n",
       " ['/parcel/view/1527281025/2022',\n",
       "  '/parcel/view/1527281025/2021',\n",
       "  '/parcel/view/1527281025/2020',\n",
       "  '/parcel/view/1527281025/2019',\n",
       "  '/parcel/view/1527281025/2018',\n",
       "  '/parcel/view/1527281025/2017',\n",
       "  '/parcel/view/1527281025/2016',\n",
       "  '/parcel/view/1527281025/2015',\n",
       "  '/parcel/view/1527281025/2014',\n",
       "  '/parcel/view/1527281025/2013',\n",
       "  '/parcel/view/1527281025/2012',\n",
       "  '/parcel/view/1527281025/2011',\n",
       "  '/parcel/view/1527281025/2010',\n",
       "  '/parcel/view/1527281025/2009',\n",
       "  '/parcel/view/1527281025/2008',\n",
       "  '/parcel/view/1527281025/2007',\n",
       "  '/parcel/view/1527281025/2006',\n",
       "  '/parcel/view/1527281025/2005',\n",
       "  '/parcel/view/1527281025/2004',\n",
       "  '/parcel/view/1527281025/2003',\n",
       "  '/parcel/view/1527281025/2002',\n",
       "  '/parcel/view/1527281025/2001',\n",
       "  '/parcel/view/1527281025/2000',\n",
       "  '/parcel/view/1527281025/1999',\n",
       "  '/parcel/view/1527281025/1991'],\n",
       " ['/parcel/view/1527281026/2022',\n",
       "  '/parcel/view/1527281026/2021',\n",
       "  '/parcel/view/1527281026/2020',\n",
       "  '/parcel/view/1527281026/2019',\n",
       "  '/parcel/view/1527281026/2018',\n",
       "  '/parcel/view/1527281026/2017',\n",
       "  '/parcel/view/1527281026/2016',\n",
       "  '/parcel/view/1527281026/2015',\n",
       "  '/parcel/view/1527281026/2014',\n",
       "  '/parcel/view/1527281026/2013',\n",
       "  '/parcel/view/1527281026/2012',\n",
       "  '/parcel/view/1527281026/2011',\n",
       "  '/parcel/view/1527281026/2010',\n",
       "  '/parcel/view/1527281026/2009',\n",
       "  '/parcel/view/1527281026/2008',\n",
       "  '/parcel/view/1527281026/2007',\n",
       "  '/parcel/view/1527281026/2006',\n",
       "  '/parcel/view/1527281026/2005',\n",
       "  '/parcel/view/1527281026/2004',\n",
       "  '/parcel/view/1527281026/2003',\n",
       "  '/parcel/view/1527281026/2002',\n",
       "  '/parcel/view/1527281026/2001',\n",
       "  '/parcel/view/1527281026/2000',\n",
       "  '/parcel/view/1527281026/1999',\n",
       "  '/parcel/view/1527281026/1990'],\n",
       " ['/parcel/view/1527281027/2022',\n",
       "  '/parcel/view/1527281027/2021',\n",
       "  '/parcel/view/1527281027/2020',\n",
       "  '/parcel/view/1527281027/2019',\n",
       "  '/parcel/view/1527281027/2018',\n",
       "  '/parcel/view/1527281027/2017',\n",
       "  '/parcel/view/1527281027/2016',\n",
       "  '/parcel/view/1527281027/2015',\n",
       "  '/parcel/view/1527281027/2014',\n",
       "  '/parcel/view/1527281027/2013',\n",
       "  '/parcel/view/1527281027/2012',\n",
       "  '/parcel/view/1527281027/2011',\n",
       "  '/parcel/view/1527281027/2010',\n",
       "  '/parcel/view/1527281027/2009',\n",
       "  '/parcel/view/1527281027/2008',\n",
       "  '/parcel/view/1527281027/2007',\n",
       "  '/parcel/view/1527281027/2006',\n",
       "  '/parcel/view/1527281027/2005',\n",
       "  '/parcel/view/1527281027/2004',\n",
       "  '/parcel/view/1527281027/2003',\n",
       "  '/parcel/view/1527281027/2002',\n",
       "  '/parcel/view/1527281027/2001',\n",
       "  '/parcel/view/1527281027/2000',\n",
       "  '/parcel/view/1527281027/1999',\n",
       "  '/parcel/view/1527281027/1990',\n",
       "  '/parcel/view/1527281027/1986'],\n",
       " ['/parcel/view/1527281028/2022',\n",
       "  '/parcel/view/1527281028/2021',\n",
       "  '/parcel/view/1527281028/2020',\n",
       "  '/parcel/view/1527281028/2019',\n",
       "  '/parcel/view/1527281028/2018',\n",
       "  '/parcel/view/1527281028/2017',\n",
       "  '/parcel/view/1527281028/2016',\n",
       "  '/parcel/view/1527281028/2015',\n",
       "  '/parcel/view/1527281028/2014',\n",
       "  '/parcel/view/1527281028/2013',\n",
       "  '/parcel/view/1527281028/2012',\n",
       "  '/parcel/view/1527281028/2011',\n",
       "  '/parcel/view/1527281028/2010',\n",
       "  '/parcel/view/1527281028/2009',\n",
       "  '/parcel/view/1527281028/2008',\n",
       "  '/parcel/view/1527281028/2007',\n",
       "  '/parcel/view/1527281028/2006',\n",
       "  '/parcel/view/1527281028/2005',\n",
       "  '/parcel/view/1527281028/2004',\n",
       "  '/parcel/view/1527281028/2003',\n",
       "  '/parcel/view/1527281028/2002',\n",
       "  '/parcel/view/1527281028/2001',\n",
       "  '/parcel/view/1527281028/2000',\n",
       "  '/parcel/view/1527281028/1999',\n",
       "  '/parcel/view/1527281028/1991'],\n",
       " ['/parcel/view/1527281029/2022',\n",
       "  '/parcel/view/1527281029/2021',\n",
       "  '/parcel/view/1527281029/2020',\n",
       "  '/parcel/view/1527281029/2019',\n",
       "  '/parcel/view/1527281029/2018',\n",
       "  '/parcel/view/1527281029/2017',\n",
       "  '/parcel/view/1527281029/2016',\n",
       "  '/parcel/view/1527281029/2015',\n",
       "  '/parcel/view/1527281029/2014',\n",
       "  '/parcel/view/1527281029/2013',\n",
       "  '/parcel/view/1527281029/2012',\n",
       "  '/parcel/view/1527281029/2011',\n",
       "  '/parcel/view/1527281029/2010',\n",
       "  '/parcel/view/1527281029/2009',\n",
       "  '/parcel/view/1527281029/2008',\n",
       "  '/parcel/view/1527281029/2007',\n",
       "  '/parcel/view/1527281029/2006',\n",
       "  '/parcel/view/1527281029/2005',\n",
       "  '/parcel/view/1527281029/2004',\n",
       "  '/parcel/view/1527281029/2003',\n",
       "  '/parcel/view/1527281029/2002',\n",
       "  '/parcel/view/1527281029/2001',\n",
       "  '/parcel/view/1527281029/2000',\n",
       "  '/parcel/view/1527281029/1999',\n",
       "  '/parcel/view/1527281029/1997',\n",
       "  '/parcel/view/1527281029/1984'],\n",
       " ['/parcel/view/1527281030/2022',\n",
       "  '/parcel/view/1527281030/2021',\n",
       "  '/parcel/view/1527281030/2020',\n",
       "  '/parcel/view/1527281030/2019',\n",
       "  '/parcel/view/1527281030/2018',\n",
       "  '/parcel/view/1527281030/2017',\n",
       "  '/parcel/view/1527281030/2016',\n",
       "  '/parcel/view/1527281030/2015',\n",
       "  '/parcel/view/1527281030/2014',\n",
       "  '/parcel/view/1527281030/2013',\n",
       "  '/parcel/view/1527281030/2012',\n",
       "  '/parcel/view/1527281030/2011',\n",
       "  '/parcel/view/1527281030/2010',\n",
       "  '/parcel/view/1527281030/2009',\n",
       "  '/parcel/view/1527281030/2008',\n",
       "  '/parcel/view/1527281030/2007',\n",
       "  '/parcel/view/1527281030/2006',\n",
       "  '/parcel/view/1527281030/2005',\n",
       "  '/parcel/view/1527281030/2004',\n",
       "  '/parcel/view/1527281030/2003',\n",
       "  '/parcel/view/1527281030/2002',\n",
       "  '/parcel/view/1527281030/2001',\n",
       "  '/parcel/view/1527281030/2000',\n",
       "  '/parcel/view/1527281030/1999',\n",
       "  '/parcel/view/1527281030/1993',\n",
       "  '/parcel/view/1527281030/1991',\n",
       "  '/parcel/view/1527281030/1961'],\n",
       " ['/parcel/view/1527281033/2022',\n",
       "  '/parcel/view/1527281033/2021',\n",
       "  '/parcel/view/1527281033/2020',\n",
       "  '/parcel/view/1527281033/2019',\n",
       "  '/parcel/view/1527281033/2018',\n",
       "  '/parcel/view/1527281033/2017',\n",
       "  '/parcel/view/1527281033/2016',\n",
       "  '/parcel/view/1527281033/2015',\n",
       "  '/parcel/view/1527281033/2014',\n",
       "  '/parcel/view/1527281033/2013',\n",
       "  '/parcel/view/1527281033/2012',\n",
       "  '/parcel/view/1527281033/2011',\n",
       "  '/parcel/view/1527281033/2010',\n",
       "  '/parcel/view/1527281033/2009',\n",
       "  '/parcel/view/1527281033/2008',\n",
       "  '/parcel/view/1527281033/2007',\n",
       "  '/parcel/view/1527281033/2006',\n",
       "  '/parcel/view/1527281033/2005',\n",
       "  '/parcel/view/1527281033/2004',\n",
       "  '/parcel/view/1527281033/2003',\n",
       "  '/parcel/view/1527281033/2002',\n",
       "  '/parcel/view/1527281033/2001',\n",
       "  '/parcel/view/1527281033/2000',\n",
       "  '/parcel/view/1527281033/1999',\n",
       "  '/parcel/view/1527281033/1992'],\n",
       " ['/parcel/view/1527281034/2022',\n",
       "  '/parcel/view/1527281034/2021',\n",
       "  '/parcel/view/1527281034/2020',\n",
       "  '/parcel/view/1527281034/2019',\n",
       "  '/parcel/view/1527281034/2018',\n",
       "  '/parcel/view/1527281034/2017',\n",
       "  '/parcel/view/1527281034/2016',\n",
       "  '/parcel/view/1527281034/2015',\n",
       "  '/parcel/view/1527281034/2014',\n",
       "  '/parcel/view/1527281034/2013',\n",
       "  '/parcel/view/1527281034/2012',\n",
       "  '/parcel/view/1527281034/2011',\n",
       "  '/parcel/view/1527281034/2010',\n",
       "  '/parcel/view/1527281034/2009',\n",
       "  '/parcel/view/1527281034/2008',\n",
       "  '/parcel/view/1527281034/2007',\n",
       "  '/parcel/view/1527281034/2006',\n",
       "  '/parcel/view/1527281034/2005',\n",
       "  '/parcel/view/1527281034/2004',\n",
       "  '/parcel/view/1527281034/2003',\n",
       "  '/parcel/view/1527281034/2002',\n",
       "  '/parcel/view/1527281034/2001',\n",
       "  '/parcel/view/1527281034/2000',\n",
       "  '/parcel/view/1527281034/1999',\n",
       "  '/parcel/view/1527281034/1997',\n",
       "  '/parcel/view/1527281034/1984'],\n",
       " ['/parcel/view/1527281035/2022',\n",
       "  '/parcel/view/1527281035/2021',\n",
       "  '/parcel/view/1527281035/2020',\n",
       "  '/parcel/view/1527281035/2019',\n",
       "  '/parcel/view/1527281035/2018',\n",
       "  '/parcel/view/1527281035/2017',\n",
       "  '/parcel/view/1527281035/2016',\n",
       "  '/parcel/view/1527281035/2015',\n",
       "  '/parcel/view/1527281035/2014',\n",
       "  '/parcel/view/1527281035/2013',\n",
       "  '/parcel/view/1527281035/2012',\n",
       "  '/parcel/view/1527281035/2011',\n",
       "  '/parcel/view/1527281035/2010',\n",
       "  '/parcel/view/1527281035/2009',\n",
       "  '/parcel/view/1527281035/2008',\n",
       "  '/parcel/view/1527281035/2007',\n",
       "  '/parcel/view/1527281035/2006',\n",
       "  '/parcel/view/1527281035/2005',\n",
       "  '/parcel/view/1527281035/2004',\n",
       "  '/parcel/view/1527281035/2003',\n",
       "  '/parcel/view/1527281035/2002',\n",
       "  '/parcel/view/1527281035/2001',\n",
       "  '/parcel/view/1527281035/2000',\n",
       "  '/parcel/view/1527281035/1999',\n",
       "  '/parcel/view/1527281035/1997',\n",
       "  '/parcel/view/1527281035/1974'],\n",
       " ['/parcel/view/1527281036/2022',\n",
       "  '/parcel/view/1527281036/2021',\n",
       "  '/parcel/view/1527281036/2020',\n",
       "  '/parcel/view/1527281036/2019',\n",
       "  '/parcel/view/1527281036/2018',\n",
       "  '/parcel/view/1527281036/2017',\n",
       "  '/parcel/view/1527281036/2016',\n",
       "  '/parcel/view/1527281036/2015',\n",
       "  '/parcel/view/1527281036/2014',\n",
       "  '/parcel/view/1527281036/2013',\n",
       "  '/parcel/view/1527281036/2012',\n",
       "  '/parcel/view/1527281036/2011',\n",
       "  '/parcel/view/1527281036/2010',\n",
       "  '/parcel/view/1527281036/2009',\n",
       "  '/parcel/view/1527281036/2008',\n",
       "  '/parcel/view/1527281036/2007',\n",
       "  '/parcel/view/1527281036/2006',\n",
       "  '/parcel/view/1527281036/2005',\n",
       "  '/parcel/view/1527281036/2004',\n",
       "  '/parcel/view/1527281036/2003',\n",
       "  '/parcel/view/1527281036/2002',\n",
       "  '/parcel/view/1527281036/2001',\n",
       "  '/parcel/view/1527281036/2000',\n",
       "  '/parcel/view/1527281036/1999',\n",
       "  '/parcel/view/1527281036/1976'],\n",
       " ['/parcel/view/1527281037/2022',\n",
       "  '/parcel/view/1527281037/2021',\n",
       "  '/parcel/view/1527281037/2020',\n",
       "  '/parcel/view/1527281037/2019',\n",
       "  '/parcel/view/1527281037/2018',\n",
       "  '/parcel/view/1527281037/2017',\n",
       "  '/parcel/view/1527281037/2016',\n",
       "  '/parcel/view/1527281037/2015',\n",
       "  '/parcel/view/1527281037/2014',\n",
       "  '/parcel/view/1527281037/2013',\n",
       "  '/parcel/view/1527281037/2012',\n",
       "  '/parcel/view/1527281037/2011',\n",
       "  '/parcel/view/1527281037/2010',\n",
       "  '/parcel/view/1527281037/2009',\n",
       "  '/parcel/view/1527281037/2008',\n",
       "  '/parcel/view/1527281037/2007',\n",
       "  '/parcel/view/1527281037/2006',\n",
       "  '/parcel/view/1527281037/2005',\n",
       "  '/parcel/view/1527281037/2004',\n",
       "  '/parcel/view/1527281037/2003',\n",
       "  '/parcel/view/1527281037/2002',\n",
       "  '/parcel/view/1527281037/2001',\n",
       "  '/parcel/view/1527281037/2000',\n",
       "  '/parcel/view/1527281037/1999',\n",
       "  '/parcel/view/1527281037/1994',\n",
       "  '/parcel/view/1527281037/1991',\n",
       "  '/parcel/view/1527281037/1986']]"
      ]
     },
     "execution_count": 183,
     "metadata": {},
     "output_type": "execute_result"
    }
   ],
   "source": [
    "[directory.tax_year_links() for directory in directories[1322:1340]]"
   ]
  },
  {
   "cell_type": "code",
   "execution_count": 114,
   "id": "34267b02-f7f1-436a-8798-985948b3ce19",
   "metadata": {},
   "outputs": [
    {
     "data": {
      "text/plain": [
       "'\\n                            15-27-104-009 : 2022\\n                        '"
      ]
     },
     "execution_count": 114,
     "metadata": {},
     "output_type": "execute_result"
    }
   ],
   "source": [
    "sample_page.parcel_year_label()"
   ]
  },
  {
   "cell_type": "code",
   "execution_count": 127,
   "id": "8671bf3d-ee0a-40e4-ba2f-b14575fb5574",
   "metadata": {},
   "outputs": [
    {
     "data": {
      "text/plain": [
       "<div class=\"panel panel-info\">\n",
       "<div class=\"panel-heading\"><h3 class=\"panel-title\">Property Information</h3></div>\n",
       "<table class=\"table table-bordered\">\n",
       "<tr>\n",
       "<td class=\"col-xs-4\">\n",
       "<div class=\"inner-label\">Parcel Number</div>\n",
       "<div class=\"inner-value\">15-27-104-009</div>\n",
       "</td>\n",
       "<td class=\"col-xs-4\" rowspan=\"3\">\n",
       "<div class=\"inner-label\">Site Address</div>\n",
       "<div class=\"inner-value\">\n",
       "                        208  S LASALLE ST<br/>\n",
       "                        AURORA, IL 60505\n",
       "                    </div>\n",
       "</td>\n",
       "<td class=\"col-xs-4\" rowspan=\"3\">\n",
       "<div class=\"inner-label\">Owner Name &amp; Address</div>\n",
       "<div class=\"inner-value\" style=\"white-space:pre-line\"> MARTINEZ, HERIBERTO R &amp; SILVA, GUADALUPE A\n",
       "208 S LASALLE ST APT 1\n",
       "AURORA, IL, 60505-4689 </div>\n",
       "</td>\n",
       "</tr>\n",
       "<tr>\n",
       "<td>\n",
       "<div class=\"inner-label\" style=\"color:red\">Tax Year</div>\n",
       "<div class=\"inner-value\">\n",
       "<div style=\"font-weight:bold; color:red; display:inline;\"> 2022 (Payable 2023)</div>\n",
       "<div class=\"btn-group\">\n",
       "<button aria-expanded=\"false\" aria-haspopup=\"true\" class=\"btn btn-default btn-xs dropdown-toggle\" data-toggle=\"dropdown\" type=\"button\">\n",
       "<span class=\"caret\" id=\"year-dropdown\"></span>\n",
       "<span class=\"sr-only\">Toggle Dropdown</span>\n",
       "</button>\n",
       "<ul class=\"dropdown-menu\">\n",
       "<li><a href=\"/parcel/view/1527104009/2022\" style=\"font-weight:bold; color:red;\">Tax Year 2022 (Payable 2023)</a></li>\n",
       "<li><a href=\"/parcel/view/1527104009/2021\">Tax Year 2021 (Payable 2022)</a></li>\n",
       "<li><a href=\"/parcel/view/1527104009/2020\">Tax Year 2020 (Payable 2021)</a></li>\n",
       "<li><a href=\"/parcel/view/1527104009/2019\">Tax Year 2019 (Payable 2020)</a></li>\n",
       "<li><a href=\"/parcel/view/1527104009/2018\">Tax Year 2018 (Payable 2019)</a></li>\n",
       "<li><a href=\"/parcel/view/1527104009/2017\">Tax Year 2017 (Payable 2018)</a></li>\n",
       "<li><a href=\"/parcel/view/1527104009/2016\">Tax Year 2016 (Payable 2017)</a></li>\n",
       "<li><a href=\"/parcel/view/1527104009/2015\">Tax Year 2015 (Payable 2016)</a></li>\n",
       "<li><a href=\"/parcel/view/1527104009/2014\">Tax Year 2014 (Payable 2015)</a></li>\n",
       "<li><a href=\"/parcel/view/1527104009/2013\">Tax Year 2013 (Payable 2014)</a></li>\n",
       "<li><a href=\"/parcel/view/1527104009/2012\">Tax Year 2012 (Payable 2013)</a></li>\n",
       "<li><a href=\"/parcel/view/1527104009/2011\">Tax Year 2011 (Payable 2012)</a></li>\n",
       "<li><a href=\"/parcel/view/1527104009/2010\">Tax Year 2010 (Payable 2011)</a></li>\n",
       "<li><a href=\"/parcel/view/1527104009/2009\">Tax Year 2009 (Payable 2010)</a></li>\n",
       "<li><a href=\"/parcel/view/1527104009/2008\">Tax Year 2008 (Payable 2009)</a></li>\n",
       "<li><a href=\"/parcel/view/1527104009/2007\">Tax Year 2007 (Payable 2008)</a></li>\n",
       "<li><a href=\"/parcel/view/1527104009/2006\">Tax Year 2006 (Payable 2007)</a></li>\n",
       "<li><a href=\"/parcel/view/1527104009/2005\">Tax Year 2005 (Payable 2006)</a></li>\n",
       "<li><a href=\"/parcel/view/1527104009/2004\">Tax Year 2004 (Payable 2005)</a></li>\n",
       "<li><a href=\"/parcel/view/1527104009/2003\">Tax Year 2003 (Payable 2004)</a></li>\n",
       "<li><a href=\"/parcel/view/1527104009/2002\">Tax Year 2002 (Payable 2003)</a></li>\n",
       "<li><a href=\"/parcel/view/1527104009/2001\">Tax Year 2001 (Payable 2002)</a></li>\n",
       "<li><a href=\"/parcel/view/1527104009/2000\">Tax Year 2000 (Payable 2001)</a></li>\n",
       "<li><a href=\"/parcel/view/1527104009/1999\">Tax Year 1999 (Payable 2000)</a></li>\n",
       "<li><a href=\"/parcel/view/1527104009/1992\">Tax Year 1992 (Payable 1993)</a></li>\n",
       "<li><a href=\"/parcel/view/1527104009/1988\">Tax Year 1988 (Payable 1989)</a></li>\n",
       "</ul>\n",
       "</div>\n",
       "</div>\n",
       "</td>\n",
       "</tr>\n",
       "<tr>\n",
       "<td colspan=\"1\">\n",
       "<div class=\"inner-label\">Sale Status</div>\n",
       "<div class=\"inner-value\">\n",
       "<p>None</p>\n",
       "</div>\n",
       "</td>\n",
       "</tr>\n",
       "<tr>\n",
       "<td>\n",
       "<div class=\"inner-label\">Property Class</div>\n",
       "<div class=\"inner-value\">0040 - Residential Improved Lot</div>\n",
       "</td>\n",
       "<td>\n",
       "<div class=\"inner-label\">Tax Code</div>\n",
       "<div class=\"inner-value\">AU021 - </div>\n",
       "</td>\n",
       "<td>\n",
       "<div class=\"inner-label\">Tax Status</div>\n",
       "<div class=\"inner-value\">Taxable</div>\n",
       "</td>\n",
       "</tr>\n",
       "<tr>\n",
       "<td>\n",
       "<div class=\"inner-label\">Net Taxable Value</div>\n",
       "<div class=\"inner-value\">0</div>\n",
       "</td>\n",
       "<td>\n",
       "<div class=\"inner-label\">Tax Rate</div>\n",
       "<div class=\"inner-value\">Unavailable</div>\n",
       "</td>\n",
       "<td>\n",
       "<div style=\"float:right; padding-top:2px;\">\n",
       "<a href=\"/TaxBill?property_key=1527104009&amp;source=RE&amp;year=2022\" target=\"_blank\">\n",
       "<button class=\"btn btn-success\" id=\"PrintTaxbill\" title=\"Print Tax Bill\" type=\"button\">Print Tax Bill</button>\n",
       "</a>\n",
       "</div>\n",
       "<div class=\"inner-label\">Total Tax</div>\n",
       "<div class=\"inner-value\">Unavailable</div>\n",
       "</td>\n",
       "</tr>\n",
       "<tr>\n",
       "<td>\n",
       "<div class=\"inner-label\">Township</div>\n",
       "<div class=\"inner-value\">AURORA </div>\n",
       "</td>\n",
       "<td>\n",
       "<div class=\"inner-label\">Acres</div>\n",
       "<div class=\"inner-value\">0.0000</div>\n",
       "</td>\n",
       "<td rowspan=\"1\">\n",
       "<div class=\"inner-label\">Mailing Address</div>\n",
       "<div class=\"inner-value\" style=\"white-space:pre-line\"></div>\n",
       "</td>\n",
       "</tr>\n",
       "<tr>\n",
       "<td colspan=\"3\">\n",
       "<div class=\"inner-label\">Legal Description (not for use in deeds or other transactional documents)</div>\n",
       "<div class=\"inner-value\">\n",
       "<p>Jenks Addn : pt Lot 8 Blk 11 </p>\n",
       "</div>\n",
       "</td>\n",
       "</tr>\n",
       "</table>\n",
       "</div>"
      ]
     },
     "execution_count": 127,
     "metadata": {},
     "output_type": "execute_result"
    }
   ],
   "source": [
    "[panel for panel in sample_page.panels() if \"property information\" in panel.find(\"h3\", \"panel-title\").text.lower()][0]"
   ]
  },
  {
   "cell_type": "code",
   "execution_count": 124,
   "id": "4a017f99-c2f8-4e0c-98dd-5da7a1ed8cb3",
   "metadata": {},
   "outputs": [
    {
     "name": "stdout",
     "output_type": "stream",
     "text": [
      "<h3 class=\"panel-title\">Property Information</h3>\n",
      "<h3 class=\"panel-title\">No Billing Information</h3>\n",
      "<h3 class=\"panel-title\">Payment History</h3>\n",
      "<h3 class=\"panel-title\">Assessments</h3>\n",
      "<h3 class=\"panel-title\">Exemptions</h3>\n",
      "<h3 class=\"panel-title\">No Taxing Bodies Information</h3>\n",
      "<h3 class=\"panel-title\">No Redemptions</h3>\n",
      "<h3 class=\"panel-title\">No Forfeiture Information</h3>\n",
      "<h3 class=\"panel-title\">No Farmland Information</h3>\n",
      "<h3 class=\"panel-title\" style=\"font-family:Helvetica Neue,Helvetica,Arial,sans-serif; display:inline\">\n",
      "                Parcel Map\n",
      "            </h3>\n",
      "<h3 class=\"panel-title\">Sales History</h3>\n"
     ]
    }
   ],
   "source": [
    "for panel in sample_page.panels():\n",
    "    print(panel.find(\"h3\", \"panel-title\"))"
   ]
  },
  {
   "cell_type": "code",
   "execution_count": null,
   "id": "97ad7ed7-3cd7-4e9a-9834-786fe9c1bea5",
   "metadata": {},
   "outputs": [],
   "source": []
  },
  {
   "cell_type": "code",
   "execution_count": null,
   "id": "96134d37-d11d-4859-9708-08a3fe35673b",
   "metadata": {},
   "outputs": [],
   "source": []
  },
  {
   "cell_type": "code",
   "execution_count": 96,
   "id": "bf07ce53-c0cc-4349-9d4f-5ff08d1f8e9c",
   "metadata": {},
   "outputs": [],
   "source": [
    "panels = sample_page.parsed_html.find_all(\"div\", \"panel-info\")"
   ]
  },
  {
   "cell_type": "code",
   "execution_count": 97,
   "id": "fd2b815c-c253-4a08-a135-e235d674d651",
   "metadata": {},
   "outputs": [
    {
     "data": {
      "text/plain": [
       "bs4.element.ResultSet"
      ]
     },
     "execution_count": 97,
     "metadata": {},
     "output_type": "execute_result"
    }
   ],
   "source": [
    "type(panels)"
   ]
  },
  {
   "cell_type": "code",
   "execution_count": 98,
   "id": "7c011625-6893-4fe8-b861-40a68af11cd4",
   "metadata": {},
   "outputs": [
    {
     "data": {
      "text/plain": [
       "11"
      ]
     },
     "execution_count": 98,
     "metadata": {},
     "output_type": "execute_result"
    }
   ],
   "source": [
    "len(panels)"
   ]
  },
  {
   "cell_type": "code",
   "execution_count": null,
   "id": "3867e28a-011f-4cdb-b3f9-ec8ee77f6d0d",
   "metadata": {},
   "outputs": [],
   "source": []
  },
  {
   "cell_type": "code",
   "execution_count": null,
   "id": "adf8ff6b-daf4-460d-b63b-1a3b353ff319",
   "metadata": {},
   "outputs": [],
   "source": []
  },
  {
   "cell_type": "code",
   "execution_count": null,
   "id": "5760a462-14c6-4b7d-816f-651ff92b6f7f",
   "metadata": {},
   "outputs": [],
   "source": []
  },
  {
   "cell_type": "code",
   "execution_count": 86,
   "id": "6e347cfc-bac7-4cfe-9b87-062131057f5c",
   "metadata": {},
   "outputs": [
    {
     "data": {
      "text/plain": [
       "'\\n                            15-27-104-009 : 2022\\n                        '"
      ]
     },
     "execution_count": 86,
     "metadata": {},
     "output_type": "execute_result"
    }
   ],
   "source": [
    "directories[32].latest_parcel_page().parcel_year_label()"
   ]
  },
  {
   "cell_type": "code",
   "execution_count": null,
   "id": "cae310dc-e0d8-4b3e-8e59-28014a392eb5",
   "metadata": {},
   "outputs": [],
   "source": []
  },
  {
   "cell_type": "code",
   "execution_count": 54,
   "id": "d72b30a7-a91c-4d86-8b9b-81ca9bf0f8ee",
   "metadata": {},
   "outputs": [],
   "source": [
    "parcel_page_321 = directories[321].latest_parcel_page()"
   ]
  },
  {
   "cell_type": "code",
   "execution_count": 55,
   "id": "baf215d1-6ed3-40cb-a137-9407e251244f",
   "metadata": {},
   "outputs": [],
   "source": [
    "parcel_page_321.parse_html()"
   ]
  },
  {
   "cell_type": "code",
   "execution_count": 59,
   "id": "6e59516d-4c50-49b8-a673-3a1703612751",
   "metadata": {},
   "outputs": [
    {
     "data": {
      "text/plain": [
       "'\\n                            15-27-134-019 : 2022\\n                        '"
      ]
     },
     "execution_count": 59,
     "metadata": {},
     "output_type": "execute_result"
    }
   ],
   "source": [
    "parcel_page_321.parsed_html.select(\"#parcel-year-label\")[0].text"
   ]
  },
  {
   "cell_type": "code",
   "execution_count": 47,
   "id": "05380d97-546e-4be1-b043-907653af5023",
   "metadata": {},
   "outputs": [
    {
     "data": {
      "text/plain": [
       "['2022.html']"
      ]
     },
     "execution_count": 47,
     "metadata": {},
     "output_type": "execute_result"
    }
   ],
   "source": [
    "directories[322].files"
   ]
  },
  {
   "cell_type": "raw",
   "id": "98e1e8cd-5885-4c8c-8e64-e29b354b928d",
   "metadata": {},
   "source": []
  },
  {
   "cell_type": "code",
   "execution_count": 36,
   "id": "67b64ff9-d50e-46aa-8a0e-573a5d01aed4",
   "metadata": {},
   "outputs": [],
   "source": [
    "has_files_list = [pin_directory.has_files() for pin_directory in directories]"
   ]
  },
  {
   "cell_type": "code",
   "execution_count": 37,
   "id": "7f4bbbf9-646e-4509-813b-6d7435cd8fe2",
   "metadata": {},
   "outputs": [
    {
     "data": {
      "text/plain": [
       "2831"
      ]
     },
     "execution_count": 37,
     "metadata": {},
     "output_type": "execute_result"
    }
   ],
   "source": [
    "len(has_files_list)"
   ]
  },
  {
   "cell_type": "code",
   "execution_count": 38,
   "id": "8a77a5da-7fb9-4231-b67d-6e5b5daf5de1",
   "metadata": {},
   "outputs": [
    {
     "data": {
      "text/plain": [
       "True"
      ]
     },
     "execution_count": 38,
     "metadata": {},
     "output_type": "execute_result"
    }
   ],
   "source": [
    "all(has_files_list)"
   ]
  },
  {
   "cell_type": "code",
   "execution_count": 39,
   "id": "3e90366d-7272-4a9d-b8b6-5d7eaf8351ce",
   "metadata": {},
   "outputs": [
    {
     "data": {
      "text/plain": [
       "['2022.html']"
      ]
     },
     "execution_count": 39,
     "metadata": {},
     "output_type": "execute_result"
    }
   ],
   "source": [
    "directories[32].files"
   ]
  },
  {
   "cell_type": "code",
   "execution_count": null,
   "id": "1af5b794-5d3e-4338-9d4d-90633db89640",
   "metadata": {},
   "outputs": [],
   "source": []
  },
  {
   "cell_type": "code",
   "execution_count": null,
   "id": "152b2bf3-33f2-4367-b362-0ba10af4ea20",
   "metadata": {},
   "outputs": [],
   "source": []
  },
  {
   "cell_type": "code",
   "execution_count": null,
   "id": "a80b9f78-f3c7-4310-ab18-7c95140e5c6c",
   "metadata": {},
   "outputs": [],
   "source": []
  },
  {
   "cell_type": "code",
   "execution_count": null,
   "id": "fd59dd54-8fec-42e5-bba4-0c4a69c0123d",
   "metadata": {},
   "outputs": [],
   "source": []
  },
  {
   "cell_type": "code",
   "execution_count": null,
   "id": "2b338e9e-c921-474f-8e08-8f12ff9236de",
   "metadata": {},
   "outputs": [],
   "source": []
  },
  {
   "cell_type": "code",
   "execution_count": 25,
   "id": "dc7f9fe1-25a4-4f48-be0e-0394e16c1bb5",
   "metadata": {},
   "outputs": [],
   "source": [
    "soup = BeautifulSoup(open(\"./kane_county_tax_files/1521132020/2000.html\"), \"html.parser\")"
   ]
  },
  {
   "cell_type": "code",
   "execution_count": 28,
   "id": "5509c830-49c8-4b72-bf88-3c74578883d6",
   "metadata": {},
   "outputs": [
    {
     "data": {
      "text/plain": [
       "<table class=\"table table-bordered\">\n",
       "<thead>\n",
       "<tr>\n",
       "<th>Level</th>\n",
       "<th>Homesite</th>\n",
       "<th>Dwelling</th>\n",
       "<th>Farm Land</th>\n",
       "<th>Farm Building</th>\n",
       "<th>Mineral</th>\n",
       "<th>Total</th>\n",
       "</tr>\n",
       "</thead>\n",
       "<tbody>\n",
       "<tr class=\"text-right\">\n",
       "<td class=\"text-center\">DOR Equalized</td>\n",
       "<td>5,110</td>\n",
       "<td>0</td>\n",
       "<td>0</td>\n",
       "<td>0</td>\n",
       "<td>0</td>\n",
       "<td>5,110</td>\n",
       "</tr>\n",
       "<tr class=\"text-right\">\n",
       "<td class=\"text-center\">Department of Revenue</td>\n",
       "<td>5,110</td>\n",
       "<td>0</td>\n",
       "<td>0</td>\n",
       "<td>0</td>\n",
       "<td>0</td>\n",
       "<td>5,110</td>\n",
       "</tr>\n",
       "<tr class=\"text-right\">\n",
       "<td class=\"text-center\">Board of Review Equalized</td>\n",
       "<td>5,110</td>\n",
       "<td>0</td>\n",
       "<td>0</td>\n",
       "<td>0</td>\n",
       "<td>0</td>\n",
       "<td>5,110</td>\n",
       "</tr>\n",
       "<tr class=\"text-right\">\n",
       "<td class=\"text-center\">Board of Review</td>\n",
       "<td>5,110</td>\n",
       "<td>0</td>\n",
       "<td>0</td>\n",
       "<td>0</td>\n",
       "<td>0</td>\n",
       "<td>5,110</td>\n",
       "</tr>\n",
       "<tr class=\"text-right\">\n",
       "<td class=\"text-center\">S of A Equalized</td>\n",
       "<td>5,110</td>\n",
       "<td>0</td>\n",
       "<td>0</td>\n",
       "<td>0</td>\n",
       "<td>0</td>\n",
       "<td>5,110</td>\n",
       "</tr>\n",
       "<tr class=\"text-right\">\n",
       "<td class=\"text-center\">Supervisor of Assessments</td>\n",
       "<td>4,746</td>\n",
       "<td>0</td>\n",
       "<td>0</td>\n",
       "<td>0</td>\n",
       "<td>0</td>\n",
       "<td>4,746</td>\n",
       "</tr>\n",
       "</tbody>\n",
       "</table>"
      ]
     },
     "execution_count": 28,
     "metadata": {},
     "output_type": "execute_result"
    }
   ],
   "source": [
    "soup.find_all(\"table\")[3]"
   ]
  },
  {
   "cell_type": "code",
   "execution_count": null,
   "id": "13d595af-54ae-4016-ac0c-e71e0dc87489",
   "metadata": {},
   "outputs": [],
   "source": []
  },
  {
   "cell_type": "code",
   "execution_count": null,
   "id": "85053b09-bfb9-4db2-972c-e03c51f30263",
   "metadata": {},
   "outputs": [],
   "source": []
  }
 ],
 "metadata": {
  "kernelspec": {
   "display_name": "Python 3 (ipykernel)",
   "language": "python",
   "name": "python3"
  },
  "language_info": {
   "codemirror_mode": {
    "name": "ipython",
    "version": 3
   },
   "file_extension": ".py",
   "mimetype": "text/x-python",
   "name": "python",
   "nbconvert_exporter": "python",
   "pygments_lexer": "ipython3",
   "version": "3.9.12"
  }
 },
 "nbformat": 4,
 "nbformat_minor": 5
}
