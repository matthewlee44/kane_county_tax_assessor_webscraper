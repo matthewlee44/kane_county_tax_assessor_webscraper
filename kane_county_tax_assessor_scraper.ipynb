{
 "cells": [
  {
   "cell_type": "markdown",
   "id": "efdbb510-6ca5-4861-ad80-0815a2a0780a",
   "metadata": {},
   "source": [
    "# Kane County Tax Assessor Webscraper"
   ]
  },
  {
   "cell_type": "markdown",
   "id": "73264e7e-5551-49dd-8d9d-fda39f5ebb2f",
   "metadata": {},
   "source": [
    "## Imports"
   ]
  },
  {
   "cell_type": "markdown",
   "id": "68cc4682-da70-4633-bb13-41e1bdfc8b7a",
   "metadata": {},
   "source": [
    "### Libraries"
   ]
  },
  {
   "cell_type": "code",
   "execution_count": 1,
   "id": "28aef90b-c5a8-4392-8d2c-97163f4ca056",
   "metadata": {},
   "outputs": [],
   "source": [
    "import requests\n",
    "import pandas as pd\n",
    "import os\n",
    "import time\n",
    "from bs4 import BeautifulSoup\n",
    "\n",
    "pd.set_option(\"display.max_rows\", None)"
   ]
  },
  {
   "cell_type": "markdown",
   "id": "d925f28e-b8b2-4b5d-9c8c-0bca3f46d372",
   "metadata": {},
   "source": [
    "### PIN Data"
   ]
  },
  {
   "cell_type": "code",
   "execution_count": 2,
   "id": "9851463d-04ee-4e79-94dc-013e6be528ae",
   "metadata": {},
   "outputs": [
    {
     "name": "stderr",
     "output_type": "stream",
     "text": [
      "/var/folders/rr/_w3j3ccj4pg8x_5vk8485dq40000gp/T/ipykernel_640/666050592.py:1: DtypeWarning: Columns (29) have mixed types. Specify dtype option on import or set low_memory=False.\n",
      "  tax_parcels = pd.read_csv(\"./kane_county_tax_parcels.csv\")\n"
     ]
    }
   ],
   "source": [
    "tax_parcels = pd.read_csv(\"./kane_county_tax_parcels.csv\")"
   ]
  },
  {
   "cell_type": "code",
   "execution_count": 3,
   "id": "5ab87bf2-2d73-43a0-952c-b433959a7f25",
   "metadata": {},
   "outputs": [],
   "source": [
    "# Filter down for PINs starting with \"15-27\"\n",
    "tax_parcels_15_27 = tax_parcels[tax_parcels[\"PIN\"].str.startswith(\"15-27\")]"
   ]
  },
  {
   "cell_type": "code",
   "execution_count": 4,
   "id": "2566d3bb-63d9-40d3-abc5-77b58c07983a",
   "metadata": {},
   "outputs": [],
   "source": [
    "pins_15_27 = list(tax_parcels_15_27[\"PIN\"])"
   ]
  },
  {
   "cell_type": "code",
   "execution_count": 5,
   "id": "1c1552bc-715b-4843-8e49-3f66795523f6",
   "metadata": {},
   "outputs": [],
   "source": [
    "tax_parcels_15_28 = tax_parcels[tax_parcels[\"PIN\"].str.startswith(\"15-28\")]"
   ]
  },
  {
   "cell_type": "code",
   "execution_count": 6,
   "id": "95259d64-fedb-465b-b34a-824bc16b3e45",
   "metadata": {},
   "outputs": [],
   "source": [
    "pins_15_28 = list(tax_parcels_15_28[\"PIN\"])"
   ]
  },
  {
   "cell_type": "code",
   "execution_count": 8,
   "id": "f6021948-5b6c-4591-a921-b9dc56cb55cc",
   "metadata": {},
   "outputs": [
    {
     "data": {
      "text/plain": [
       "1300"
      ]
     },
     "execution_count": 8,
     "metadata": {},
     "output_type": "execute_result"
    }
   ],
   "source": [
    "len(pins_15_28)"
   ]
  },
  {
   "cell_type": "code",
   "execution_count": null,
   "id": "7d773626-5dc9-4fae-826e-5011b8e459c4",
   "metadata": {},
   "outputs": [],
   "source": []
  },
  {
   "cell_type": "code",
   "execution_count": null,
   "id": "614cfeb0-3bd9-48db-b247-b7a3244dabe6",
   "metadata": {},
   "outputs": [],
   "source": []
  },
  {
   "cell_type": "markdown",
   "id": "28efa247-0d45-494a-a42a-44a4682fb605",
   "metadata": {},
   "source": [
    "## Duplicative PINs Analysis"
   ]
  },
  {
   "cell_type": "code",
   "execution_count": 6,
   "id": "2b170ebf-d918-4da2-b666-107c1386ae2d",
   "metadata": {},
   "outputs": [],
   "source": [
    "tax_parcel_value_counts = tax_parcels[\"PIN\"].value_counts()"
   ]
  },
  {
   "cell_type": "code",
   "execution_count": 11,
   "id": "f3dbd639-cc4a-4ee3-a7f9-48913c8126cc",
   "metadata": {},
   "outputs": [],
   "source": [
    "duplicative_pins = list(tax_parcel_value_counts[tax_parcel_value_counts > 1].index)"
   ]
  },
  {
   "cell_type": "code",
   "execution_count": 15,
   "id": "df5e2b85-341c-4af3-9af2-4106cec42aca",
   "metadata": {},
   "outputs": [],
   "source": [
    "tax_parcels[tax_parcels[\"PIN\"].isin(duplicative_pins)].sort_values(\"PIN\").to_csv(\"./duplicative_pins.csv\", index=False)"
   ]
  },
  {
   "cell_type": "code",
   "execution_count": 4,
   "id": "b3b64c8e-e7e8-492d-8ead-472a8b4a8ae9",
   "metadata": {},
   "outputs": [
    {
     "data": {
      "text/plain": [
       "[]"
      ]
     },
     "execution_count": 4,
     "metadata": {},
     "output_type": "execute_result"
    }
   ],
   "source": [
    "[filename for filename in os.listdir(\"./kane_county_tax_files\")]"
   ]
  },
  {
   "cell_type": "code",
   "execution_count": null,
   "id": "1e014e79-09f2-4c95-8001-5d242c333826",
   "metadata": {},
   "outputs": [],
   "source": []
  },
  {
   "cell_type": "markdown",
   "id": "68e561ee-4e4c-46cd-b4a2-c0317e1d6267",
   "metadata": {},
   "source": [
    "## Save Kane Tax Assessor Parcel Page to File"
   ]
  },
  {
   "cell_type": "code",
   "execution_count": 9,
   "id": "bf4c9014-3f60-4107-b1e3-ed1bfc51e59b",
   "metadata": {},
   "outputs": [],
   "source": [
    "base_url = \"https://kaneil.devnetwedge.com/parcel/view/\"\n",
    "\n",
    "def get_front_parcel_page(pin):\n",
    "        \n",
    "    # Create string for pin to be used in URL\n",
    "    url_pin = pin.replace(\"-\", \"\")\n",
    "    \n",
    "    url = f\"{base_url}{url_pin}\"\n",
    "    no_response = True\n",
    "\n",
    "    # Request loop for front tax parcel page\n",
    "    while no_response:\n",
    "        print(f'Making request at: {url}')\n",
    "        res = requests.get(url)\n",
    "        print(f'Request response code: {res.status_code}')\n",
    "        if res.status_code == 200:\n",
    "            print(f\"Request successful for url: {res.url}\")\n",
    "            no_response = False\n",
    "        else:\n",
    "            print(f'Trying again')\n",
    "            time.sleep(3)\n",
    "    \n",
    "    # Directory path for saving parcel page HTML\n",
    "    directory = f\"./kane_county_tax_files/{pin}\"\n",
    "    \n",
    "    # Check to see if directory exists\n",
    "    directory_exists = os.path.exists(directory)\n",
    "    \n",
    "    # If directory doesn't exist, create directory\n",
    "    if not directory_exists:\n",
    "        os.makedirs(directory)\n",
    "        print(f\"created folder : {directory}\")\n",
    "        \n",
    "    # Pull year from response url\n",
    "    year = res.url.split(\"/\")[-1]\n",
    "    print(f\"Year pulled from response url: {year}\")\n",
    "    \n",
    "    with open(f\"./kane_county_tax_files/{pin}/{year}.html\", \"w\") as f:\n",
    "        f.write(res.text)\n",
    "        print(f\"Saved HTML to {f.name}\")\n",
    "\n",
    "def get_front_page_for_multiple_pins(pins_list):\n",
    "    for pin in pins_list:\n",
    "        time.sleep(1)\n",
    "        print(\"\\n\")\n",
    "        print(\"\\n\")\n",
    "        print(f\"***** Scraping for PIN: {pin} *****\")\n",
    "        get_front_parcel_page(pin)"
   ]
  },
  {
   "cell_type": "code",
   "execution_count": null,
   "id": "d10d3eea-ba0a-49e4-8b05-0ef681e7d33b",
   "metadata": {},
   "outputs": [],
   "source": [
    "get_front_page_for_multiple_pins(pins_15_27)"
   ]
  },
  {
   "cell_type": "code",
   "execution_count": 88,
   "id": "da23f766-9bf2-4f88-adfe-b0a2959edca4",
   "metadata": {},
   "outputs": [],
   "source": [
    "rootdir = \"./kane_county_tax_files\"\n",
    "complete = [it.name.split(\"/\")[-1] for it in os.scandir(rootdir) if it.is_dir()] "
   ]
  },
  {
   "cell_type": "code",
   "execution_count": 89,
   "id": "edefbc78-b98c-4b82-8004-f80bd9e105d6",
   "metadata": {},
   "outputs": [
    {
     "data": {
      "text/plain": [
       "2832"
      ]
     },
     "execution_count": 89,
     "metadata": {},
     "output_type": "execute_result"
    }
   ],
   "source": [
    "len(complete)"
   ]
  },
  {
   "cell_type": "code",
   "execution_count": 90,
   "id": "ff63006f-ba28-4b84-b6af-c76ca6cdaa24",
   "metadata": {},
   "outputs": [
    {
     "data": {
      "text/plain": [
       "2831"
      ]
     },
     "execution_count": 90,
     "metadata": {},
     "output_type": "execute_result"
    }
   ],
   "source": [
    "len(pins_15_27)"
   ]
  },
  {
   "cell_type": "markdown",
   "id": "8192ab68-6fa7-4cc9-9491-87f5458a5adc",
   "metadata": {},
   "source": [
    "## Parse HTML"
   ]
  },
  {
   "cell_type": "code",
   "execution_count": 16,
   "id": "6c50a53f-bb69-4922-8533-0964bd6371a7",
   "metadata": {},
   "outputs": [],
   "source": [
    "rootdir = \"./kane_county_tax_files\"\n",
    "complete = [it.name for it in os.scandir(rootdir) if it.is_dir()] "
   ]
  },
  {
   "cell_type": "code",
   "execution_count": 21,
   "id": "dd048fbf-06cb-4852-85e3-fbc9ff72b883",
   "metadata": {},
   "outputs": [],
   "source": [
    "joe = [filename for filename in os.listdir(\"./kane_county_tax_files\") if filename != \".ipynb_checkpoints\"]"
   ]
  },
  {
   "cell_type": "code",
   "execution_count": 23,
   "id": "caf5c591-cceb-45b6-bb16-865072b5ef94",
   "metadata": {},
   "outputs": [
    {
     "data": {
      "text/plain": [
       "2831"
      ]
     },
     "execution_count": 23,
     "metadata": {},
     "output_type": "execute_result"
    }
   ],
   "source": [
    "len(joe)"
   ]
  },
  {
   "cell_type": "code",
   "execution_count": null,
   "id": "f2125914-37cb-4308-8f5f-fbb83f710b7a",
   "metadata": {},
   "outputs": [],
   "source": []
  },
  {
   "cell_type": "code",
   "execution_count": null,
   "id": "e7ce89d1-4c4c-4f28-9888-8229a7d6b2fe",
   "metadata": {},
   "outputs": [],
   "source": []
  },
  {
   "cell_type": "code",
   "execution_count": null,
   "id": "ff73b4c5-402e-44ec-a274-d2aabadf1c7b",
   "metadata": {},
   "outputs": [],
   "source": []
  },
  {
   "cell_type": "code",
   "execution_count": 174,
   "id": "5fc4d12e-264e-467d-8098-c97a30b6b879",
   "metadata": {},
   "outputs": [],
   "source": [
    "class PinDirectory:\n",
    "    \n",
    "    def __init__(self, directory_path):\n",
    "        self.directory_path = directory_path\n",
    "        self.files = [filename for filename in os.listdir(directory_path)]\n",
    "        self.latest_year_filename = sorted(self.files)[-1]\n",
    "        self.years = [file.split(\".\")[0] for file in self.files]\n",
    "        self.latest_year = sorted(self.years)[-1]\n",
    "        self.latest_parcel_page = None\n",
    "    \n",
    "    def has_files(self):\n",
    "        return len(self.files) > 0\n",
    "    \n",
    "    def parse_latest_parcel_page(self):\n",
    "        # Return ParcelPage object for HTML page for latest year in folder\n",
    "        \n",
    "        # Check to see if ParcelPage for latest parcel page was made\n",
    "        # if not, make it and set it\n",
    "        if not self.latest_parcel_page:\n",
    "            self.latest_parcel_page = ParcelPage(f\"{self.directory_path}/{self.latest_year_filename}\")\n",
    "        \n",
    "        return self.latest_parcel_page\n",
    "\n",
    "    def tax_year_links(self):\n",
    "        \n",
    "        # Set latest parcel page if not set already\n",
    "        parcel_page = self.parse_latest_parcel_page()\n",
    "        \n",
    "        return parcel_page.tax_year_links()\n",
    "    \n",
    "    def download_tax_page(self, link):\n",
    "        base_url = \"https://kaneil.devnetwedge.com\"\n",
    "\n",
    "        url = f\"{base_url}{link}\"\n",
    "        no_response = True\n",
    "\n",
    "        # Request loop for tax parcel page\n",
    "        while no_response:\n",
    "            print(f'Making request at: {url}')\n",
    "            res = requests.get(url)\n",
    "            print(f'Request response code: {res.status_code}')\n",
    "            if res.status_code == 200:\n",
    "                print(f\"Request successful for url: {res.url}\")\n",
    "                no_response = False\n",
    "            else:\n",
    "                print(f'Trying again')\n",
    "                time.sleep(3)\n",
    "\n",
    "        # Directory path for saving parcel page HTML\n",
    "        directory = self.directory_path\n",
    "\n",
    "        # Pull year from response url\n",
    "        year = url.split(\"/\")[-1]\n",
    "        print(f\"Year pulled from url: {year}\")\n",
    "\n",
    "        with open(f\"{directory}/{year}.html\", \"w\") as f:\n",
    "            f.write(res.text)\n",
    "            print(f\"Saved HTML to {f.name}\")\n",
    "\n",
    "    \n",
    "    def download_all_tax_pages(self):\n",
    "        links = self.tax_year_links()\n",
    "        for link in links:\n",
    "            time.sleep(1)\n",
    "            print(\"\\n\")\n",
    "            print(f\"***** Scraping {link} *****\")\n",
    "            self.download_tax_page(link)\n",
    "            \n",
    "class ParcelPage:\n",
    "    \n",
    "    def __init__(self, filepath):        \n",
    "        self.filepath = filepath\n",
    "        self.parsed_html = None\n",
    "        self.info_panels = None\n",
    "        \n",
    "    def parse_html(self):\n",
    "        # Check to see that HTML for parcel page has been parsed\n",
    "        if not self.parsed_html:\n",
    "            # Parse parcel page HTML with Beautiful Soup\n",
    "            self.parsed_html = BeautifulSoup(open(self.filepath), \"html.parser\")\n",
    "        \n",
    "    def parcel_year_label(self):\n",
    "        # Pull the parcel and year label from navigation bar\n",
    "        \n",
    "        # Check if html is parsed and if not do it\n",
    "        self.parse_html()\n",
    "        \n",
    "        # Pull parcel-year-label from navbar\n",
    "        return self.parsed_html.select(\"#parcel-year-label\")[0].text\n",
    "\n",
    "    def parse_info_panels(self):\n",
    "        # Pull all info panels from page\n",
    "        \n",
    "        # Check if html is parsed and if not do it\n",
    "        self.parse_html()\n",
    "        \n",
    "        if not self.info_panels:\n",
    "            self.info_panels = self.parsed_html.find_all(\"div\", \"panel-info\")\n",
    "    \n",
    "    def property_information_panel(self):\n",
    "        # Return parsed HTML for info panel with \"Property Information\" heading\n",
    "        \n",
    "        # Check if info panels are parsed\n",
    "        self.parse_info_panels()\n",
    "        \n",
    "        return [panel for panel in self.info_panels if \"property information\" in panel.find(\"h3\", \"panel-title\").text.lower()][0]\n",
    "        \n",
    "    \n",
    "    def tax_year_links(self):\n",
    "        # Pull all tax year links\n",
    "        \n",
    "        # Get panel with property information\n",
    "        prop_info_panel = self.property_information_panel()\n",
    "        \n",
    "        # Get table with property information\n",
    "        prop_info_table = prop_info_panel.find(\"table\")\n",
    "        \n",
    "        # Get drop down menu\n",
    "        dropdown_menu = prop_info_table.find(\"ul\", \"dropdown-menu\")\n",
    "        \n",
    "        return [link['href'] for link in dropdown_menu.find_all(\"a\")]\n",
    "        \n",
    "    "
   ]
  },
  {
   "cell_type": "code",
   "execution_count": 175,
   "id": "29c5e6e2-9e2c-419d-a111-1a0b0de367e8",
   "metadata": {},
   "outputs": [],
   "source": [
    "directories = [PinDirectory(f\"./kane_county_tax_files/{directory}\") for directory in joe]"
   ]
  },
  {
   "cell_type": "code",
   "execution_count": 176,
   "id": "0f374b74-ef34-40c3-a66f-20e64e1b601e",
   "metadata": {},
   "outputs": [
    {
     "data": {
      "text/plain": [
       "{'2017', '2018', '2021', '2022'}"
      ]
     },
     "execution_count": 176,
     "metadata": {},
     "output_type": "execute_result"
    }
   ],
   "source": [
    "set(list([directory.latest_year for directory in directories]))"
   ]
  },
  {
   "cell_type": "code",
   "execution_count": null,
   "id": "a80b9f78-f3c7-4310-ab18-7c95140e5c6c",
   "metadata": {},
   "outputs": [],
   "source": []
  },
  {
   "cell_type": "code",
   "execution_count": null,
   "id": "fd59dd54-8fec-42e5-bba4-0c4a69c0123d",
   "metadata": {},
   "outputs": [],
   "source": []
  },
  {
   "cell_type": "code",
   "execution_count": null,
   "id": "2b338e9e-c921-474f-8e08-8f12ff9236de",
   "metadata": {},
   "outputs": [],
   "source": []
  },
  {
   "cell_type": "code",
   "execution_count": null,
   "id": "13d595af-54ae-4016-ac0c-e71e0dc87489",
   "metadata": {},
   "outputs": [],
   "source": []
  },
  {
   "cell_type": "code",
   "execution_count": null,
   "id": "85053b09-bfb9-4db2-972c-e03c51f30263",
   "metadata": {},
   "outputs": [],
   "source": []
  }
 ],
 "metadata": {
  "kernelspec": {
   "display_name": "Python 3 (ipykernel)",
   "language": "python",
   "name": "python3"
  },
  "language_info": {
   "codemirror_mode": {
    "name": "ipython",
    "version": 3
   },
   "file_extension": ".py",
   "mimetype": "text/x-python",
   "name": "python",
   "nbconvert_exporter": "python",
   "pygments_lexer": "ipython3",
   "version": "3.9.12"
  }
 },
 "nbformat": 4,
 "nbformat_minor": 5
}
